{
 "cells": [
  {
   "cell_type": "markdown",
   "metadata": {},
   "source": [
    "## 剪枝(Pruning) "
   ]
  },
  {
   "cell_type": "markdown",
   "metadata": {},
   "source": [
    "## [N皇后](https://leetcode-cn.com/problems/n-queens/)"
   ]
  },
  {
   "cell_type": "code",
   "execution_count": 48,
   "metadata": {},
   "outputs": [],
   "source": [
    "def solve_n_queues(n):\n",
    "    def dfs(queues, pie, na):\n",
    "        # p为当前搜索到的行数\n",
    "        p = len(queues)\n",
    "        if p == n:\n",
    "            rets.append(queues)\n",
    "            return\n",
    "        # q为遍历列的值\n",
    "        for q in range(n):\n",
    "            # 判断q不与p同列\n",
    "            # p和q的数值关系不在撇和捺中\n",
    "            if q not in queues and p+q not in pie and q-p not in na:\n",
    "                dfs(queues+[q], pie+[p+q], na+[q-p])\n",
    "            \n",
    "    rets = []\n",
    "    dfs([], [], [])\n",
    "    return [['.'*i + 'Q' + '.'*(n-i-1) for i in ret] for ret in rets]"
   ]
  },
  {
   "cell_type": "code",
   "execution_count": 52,
   "metadata": {},
   "outputs": [
    {
     "data": {
      "text/plain": [
       "[['.Q..', '...Q', 'Q...', '..Q.'], ['..Q.', 'Q...', '...Q', '.Q..']]"
      ]
     },
     "execution_count": 52,
     "metadata": {},
     "output_type": "execute_result"
    }
   ],
   "source": [
    "solve_n_queues(4)"
   ]
  },
  {
   "cell_type": "code",
   "execution_count": null,
   "metadata": {},
   "outputs": [],
   "source": []
  }
 ],
 "metadata": {
  "kernelspec": {
   "display_name": "Python 3",
   "language": "python",
   "name": "python3"
  },
  "language_info": {
   "codemirror_mode": {
    "name": "ipython",
    "version": 3
   },
   "file_extension": ".py",
   "mimetype": "text/x-python",
   "name": "python",
   "nbconvert_exporter": "python",
   "pygments_lexer": "ipython3",
   "version": "3.8.1"
  }
 },
 "nbformat": 4,
 "nbformat_minor": 4
}
