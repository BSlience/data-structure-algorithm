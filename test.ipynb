{
 "cells": [
  {
   "cell_type": "code",
   "execution_count": 3,
   "metadata": {},
   "outputs": [
    {
     "name": "stdout",
     "output_type": "stream",
     "text": [
      "True\n"
     ]
    }
   ],
   "source": [
    "def is_anagram(s, t):\n",
    "    if len(s) != len(t): return False\n",
    "    return sorted(s) == sorted(t)\n",
    "\n",
    "s = \"anagram\"\n",
    "t = \"nagaram\"\n",
    "print(is_anagram(s, t))\n",
    "### O(NlogN)"
   ]
  },
  {
   "cell_type": "code",
   "execution_count": null,
   "metadata": {},
   "outputs": [],
   "source": []
  },
  {
   "cell_type": "code",
   "execution_count": 5,
   "metadata": {},
   "outputs": [
    {
     "name": "stdout",
     "output_type": "stream",
     "text": [
      "True\n"
     ]
    }
   ],
   "source": [
    "# O(N)\n",
    "\n",
    "def is_anagram(s, t):\n",
    "    if len(s) != len(t): return False\n",
    "    \n",
    "    d1, d2 = {}, {}\n",
    "    for item in s:\n",
    "        d1[item] = d1.get(item, 0) + 1\n",
    "    for item in t:\n",
    "        d2[item] = d2.get(item, 0) + 1\n",
    "    \n",
    "    return d1 == d2\n",
    "\n",
    "s = \"anagram\"\n",
    "t = \"nagaram\"\n",
    "print(is_anagram(s, t))"
   ]
  },
  {
   "cell_type": "code",
   "execution_count": 8,
   "metadata": {},
   "outputs": [],
   "source": [
    "# a + b + c = 0 => -a - b = c\n",
    "\n",
    "def threesum(nums):\n",
    "    if len(nums) < 3: return []\n",
    "    \n",
    "    nums.sort()\n",
    "    out = set()\n",
    "    \n",
    "    for i, a in enumerate(nums):\n",
    "        \n",
    "        if i > 0 and a == nums[i-1]:\n",
    "            continue\n",
    "            \n",
    "        d = {}\n",
    "        for x in nums[i:]:\n",
    "            if x not in d:\n",
    "                d[-a-x] = 1\n",
    "            else:\n",
    "                out.add((a, -a-x, x))\n",
    "                \n",
    "    return list(map(list, out))"
   ]
  },
  {
   "cell_type": "code",
   "execution_count": 10,
   "metadata": {},
   "outputs": [
    {
     "name": "stdout",
     "output_type": "stream",
     "text": [
      "[[-1, 0, 1], [-1, -1, 2]]\n"
     ]
    }
   ],
   "source": [
    "nums = [-1, 0, 1, 2, -1, -4]\n",
    "\n",
    "print(threesum(nums))"
   ]
  },
  {
   "cell_type": "code",
   "execution_count": 15,
   "metadata": {},
   "outputs": [],
   "source": [
    "def max_window_sliding(nums, k):\n",
    "    if not nums: nums = []\n",
    "    \n",
    "    window = []\n",
    "    out = []\n",
    "    for i, x in enumerate(nums):\n",
    "        # 移除不在窗口内的值\n",
    "        if i-k > 0 and i-k >= window[0]:\n",
    "            window.pop(0)\n",
    "            \n",
    "        while window and x >= nums[window[-1]]:\n",
    "            window.pop()\n",
    "            \n",
    "        window.append(i)\n",
    "        \n",
    "        if i >= k-1:\n",
    "            out.append(nums[window[0]])\n",
    "    return out"
   ]
  },
  {
   "cell_type": "code",
   "execution_count": 17,
   "metadata": {},
   "outputs": [
    {
     "name": "stdout",
     "output_type": "stream",
     "text": [
      "[3, 5, 5, 6, 7]\n"
     ]
    }
   ],
   "source": [
    "nums = [1,3,-1,-3,5,3,6,7]\n",
    "\n",
    "print(max_window_sliding(nums, k=4))\n",
    "\n",
    "## O(kN)"
   ]
  },
  {
   "cell_type": "code",
   "execution_count": 12,
   "metadata": {},
   "outputs": [],
   "source": [
    "from graphviz import Digraph\n",
    "import uuid\n",
    "from random import sample\n",
    "\n",
    "# 二叉树类\n",
    "class BTree(object):\n",
    "\n",
    "    # 初始化\n",
    "    def __init__(self, data=None, left=None, right=None):\n",
    "        self.data = data    # 数据域\n",
    "        self.left = left    # 左子树\n",
    "        self.right = right  # 右子树\n",
    "        self.dot = Digraph(comment='Binary Tree')\n",
    "        self.iter_num = 0\n",
    "        \n",
    "    @classmethod\n",
    "    def from_list(cls, l):\n",
    "        # [5,1,4,None,None,3,6]\n",
    "        root = BTree(l[0])\n",
    "        last_node = root\n",
    "        empty_node = []\n",
    "        for i in l[1:]:\n",
    "            if last_node.iter_num == 2:\n",
    "                last_node = empty_node.pop(0)\n",
    "                \n",
    "            node = BTree(i)\n",
    "            \n",
    "            if last_node.left is None and last_node.iter_num < 2:\n",
    "                if i is not None:\n",
    "                    last_node.left = node\n",
    "                    empty_node.append(node)\n",
    "            elif last_node.right is None and last_node.iter_num < 2:\n",
    "                if i is not None:\n",
    "                    last_node.right = node\n",
    "                    empty_node.append(node)\n",
    "                    \n",
    "            last_node.iter_num += 1\n",
    "                \n",
    "        return root\n",
    "\n",
    "    # 前序遍历\n",
    "    def preorder(self):\n",
    "\n",
    "        if self.data is not None:\n",
    "            print(self.data, end=' ')\n",
    "        if self.left is not None:\n",
    "            self.left.preorder()\n",
    "        if self.right is not None:\n",
    "            self.right.preorder()\n",
    "\n",
    "    # 中序遍历\n",
    "    def inorder(self):\n",
    "        if self.left is None and self.right is None:\n",
    "            return [self.data]\n",
    "        elif self.left is None:\n",
    "            return [] + [self.data] + self.right.inorder()\n",
    "        elif self.right is None:\n",
    "            return self.left.inorder() + [self.data] + []\n",
    "        else:\n",
    "            return self.left.inorder() + [self.data] + self.right.inorder()\n",
    "#         if self.left is not None:\n",
    "#             self.left.inorder()\n",
    "#         if self.data is not None:\n",
    "#             self.data\n",
    "#         if self.right is not None:\n",
    "#             self.right.inorder()\n",
    "\n",
    "    # 后序遍历\n",
    "    def postorder(self):\n",
    "        \n",
    "        if self.left is not None:\n",
    "            self.left.postorder()\n",
    "        if self.right is not None:\n",
    "            self.right.postorder()\n",
    "        if self.data is not None:\n",
    "            print(self.data, end=' ')\n",
    "\n",
    "    # 层序遍历\n",
    "    def levelorder(self):\n",
    "\n",
    "        # 返回某个节点的左孩子\n",
    "        def LChild_Of_Node(node):\n",
    "            return node.left if node.left is not None else None\n",
    "        # 返回某个节点的右孩子\n",
    "        def RChild_Of_Node(node):\n",
    "            return node.right if node.right is not None else None\n",
    "\n",
    "        # 层序遍历列表\n",
    "        level_order = []\n",
    "        # 是否添加根节点中的数据\n",
    "        if self.data is not None:\n",
    "            level_order.append([self])\n",
    "\n",
    "        # 二叉树的高度\n",
    "        height = self.height()\n",
    "        if height >= 1:\n",
    "            # 对第二层及其以后的层数进行操作, 在level_order中添加节点而不是数据\n",
    "            for _ in range(2, height + 1):\n",
    "                level = []  # 该层的节点\n",
    "                for node in level_order[-1]:\n",
    "                    # 如果左孩子非空，则添加左孩子\n",
    "                    if LChild_Of_Node(node):\n",
    "                        level.append(LChild_Of_Node(node))\n",
    "                    # 如果右孩子非空，则添加右孩子\n",
    "                    if RChild_Of_Node(node):\n",
    "                        level.append(RChild_Of_Node(node))\n",
    "                # 如果该层非空，则添加该层\n",
    "                if level:\n",
    "                    level_order.append(level)\n",
    "\n",
    "            # 取出每层中的数据\n",
    "            for i in range(0, height):  # 层数\n",
    "                for index in range(len(level_order[i])):\n",
    "                    level_order[i][index] = level_order[i][index].data\n",
    "\n",
    "        return level_order\n",
    "\n",
    "    # 二叉树的高度\n",
    "    def height(self):\n",
    "        # 空的树高度为0, 只有root节点的树高度为1\n",
    "        if self.data is None:\n",
    "            return 0\n",
    "        elif self.left is None and self.right is None:\n",
    "            return 1\n",
    "        elif self.left is None and self.right is not None:\n",
    "            return 1 + self.right.height()\n",
    "        elif self.left is not None and self.right is None:\n",
    "            return 1 + self.left.height()\n",
    "        else:\n",
    "            return 1 + max(self.left.height(), self.right.height())\n",
    "\n",
    "    # 二叉树的叶子节点\n",
    "    def leaves(self):\n",
    "\n",
    "        if self.data is None:\n",
    "            return None\n",
    "        elif self.left is None and self.right is None:\n",
    "            print(self.data, end=' ')\n",
    "        elif self.left is None and self.right is not None:\n",
    "            self.right.leaves()\n",
    "        elif self.right is None and self.left is not None:\n",
    "            self.left.leaves()\n",
    "        else:\n",
    "            self.left.leaves()\n",
    "            self.right.leaves()\n",
    "\n",
    "    # 利用Graphviz实现二叉树的可视化\n",
    "    def print_tree(self, save_path='./Binary_Tree.png', label=False):\n",
    "\n",
    "        # colors for labels of nodes\n",
    "        colors = ['skyblue', 'tomato', 'orange', 'purple', 'green', 'yellow', 'pink', 'red']\n",
    "\n",
    "        # 绘制以某个节点为根节点的二叉树\n",
    "        def print_node(node, node_tag):\n",
    "            # 节点颜色\n",
    "            color = sample(colors,1)[0]\n",
    "            if node.left is not None:\n",
    "                left_tag = str(uuid.uuid1())            # 左节点的数据\n",
    "                self.dot.node(left_tag, str(node.left.data), style='filled', color=color)    # 左节点\n",
    "                label_string = 'L' if label else ''    # 是否在连接线上写上标签，表明为左子树\n",
    "                self.dot.edge(node_tag, left_tag, label=label_string)   # 左节点与其父节点的连线\n",
    "                print_node(node.left, left_tag)\n",
    "\n",
    "            if node.right is not None:\n",
    "                right_tag = str(uuid.uuid1())\n",
    "                self.dot.node(right_tag, str(node.right.data), style='filled', color=color)\n",
    "                label_string = 'R' if label else ''  # 是否在连接线上写上标签，表明为右子树\n",
    "                self.dot.edge(node_tag, right_tag, label=label_string)\n",
    "                print_node(node.right, right_tag)\n",
    "\n",
    "        # 如果树非空\n",
    "        if self.data is not None:\n",
    "            root_tag = str(uuid.uuid1())                # 根节点标签\n",
    "            self.dot.node(root_tag, str(self.data), style='filled', color=sample(colors,1)[0])     # 创建根节点\n",
    "            print_node(self, root_tag)\n",
    "\n",
    "#         self.dot.render(save_path)                              # 保存文件为指定文件\n",
    "        return self.dot"
   ]
  },
  {
   "cell_type": "code",
   "execution_count": 25,
   "metadata": {},
   "outputs": [
    {
     "data": {
      "image/svg+xml": [
       "<?xml version=\"1.0\" encoding=\"UTF-8\" standalone=\"no\"?>\n",
       "<!DOCTYPE svg PUBLIC \"-//W3C//DTD SVG 1.1//EN\"\n",
       " \"http://www.w3.org/Graphics/SVG/1.1/DTD/svg11.dtd\">\n",
       "<!-- Generated by graphviz version 2.30.1 (20180420.1509)\n",
       " -->\n",
       "<!-- Title: %3 Pages: 1 -->\n",
       "<svg width=\"314pt\" height=\"260pt\"\n",
       " viewBox=\"0.00 0.00 314.00 260.00\" xmlns=\"http://www.w3.org/2000/svg\" xmlns:xlink=\"http://www.w3.org/1999/xlink\">\n",
       "<g id=\"graph0\" class=\"graph\" transform=\"scale(1 1) rotate(0) translate(4 256)\">\n",
       "<title>%3</title>\n",
       "<polygon fill=\"white\" stroke=\"white\" points=\"-4,5 -4,-256 311,-256 311,5 -4,5\"/>\n",
       "<!-- 845de256&#45;6ec1&#45;11ea&#45;81d9&#45;001c42e11dbf -->\n",
       "<g id=\"node1\" class=\"node\"><title>845de256&#45;6ec1&#45;11ea&#45;81d9&#45;001c42e11dbf</title>\n",
       "<ellipse fill=\"yellow\" stroke=\"yellow\" cx=\"171\" cy=\"-234\" rx=\"27\" ry=\"18\"/>\n",
       "<text text-anchor=\"middle\" x=\"171\" y=\"-230.3\" font-family=\"Times,serif\" font-size=\"14.00\">5</text>\n",
       "</g>\n",
       "<!-- 845de7d8&#45;6ec1&#45;11ea&#45;81d9&#45;001c42e11dbf -->\n",
       "<g id=\"node2\" class=\"node\"><title>845de7d8&#45;6ec1&#45;11ea&#45;81d9&#45;001c42e11dbf</title>\n",
       "<ellipse fill=\"green\" stroke=\"green\" cx=\"135\" cy=\"-162\" rx=\"27\" ry=\"18\"/>\n",
       "<text text-anchor=\"middle\" x=\"135\" y=\"-158.3\" font-family=\"Times,serif\" font-size=\"14.00\">1</text>\n",
       "</g>\n",
       "<!-- 845de256&#45;6ec1&#45;11ea&#45;81d9&#45;001c42e11dbf&#45;&gt;845de7d8&#45;6ec1&#45;11ea&#45;81d9&#45;001c42e11dbf -->\n",
       "<g id=\"edge1\" class=\"edge\"><title>845de256&#45;6ec1&#45;11ea&#45;81d9&#45;001c42e11dbf&#45;&gt;845de7d8&#45;6ec1&#45;11ea&#45;81d9&#45;001c42e11dbf</title>\n",
       "<path fill=\"none\" stroke=\"black\" d=\"M162.65,-216.765C158.288,-208.283 152.853,-197.714 147.959,-188.197\"/>\n",
       "<polygon fill=\"black\" stroke=\"black\" points=\"150.99,-186.439 143.304,-179.147 144.765,-189.641 150.99,-186.439\"/>\n",
       "</g>\n",
       "<!-- 845dfa66&#45;6ec1&#45;11ea&#45;81d9&#45;001c42e11dbf -->\n",
       "<g id=\"node7\" class=\"node\"><title>845dfa66&#45;6ec1&#45;11ea&#45;81d9&#45;001c42e11dbf</title>\n",
       "<ellipse fill=\"green\" stroke=\"green\" cx=\"207\" cy=\"-162\" rx=\"27\" ry=\"18\"/>\n",
       "<text text-anchor=\"middle\" x=\"207\" y=\"-158.3\" font-family=\"Times,serif\" font-size=\"14.00\">4</text>\n",
       "</g>\n",
       "<!-- 845de256&#45;6ec1&#45;11ea&#45;81d9&#45;001c42e11dbf&#45;&gt;845dfa66&#45;6ec1&#45;11ea&#45;81d9&#45;001c42e11dbf -->\n",
       "<g id=\"edge6\" class=\"edge\"><title>845de256&#45;6ec1&#45;11ea&#45;81d9&#45;001c42e11dbf&#45;&gt;845dfa66&#45;6ec1&#45;11ea&#45;81d9&#45;001c42e11dbf</title>\n",
       "<path fill=\"none\" stroke=\"black\" d=\"M179.35,-216.765C183.712,-208.283 189.147,-197.714 194.041,-188.197\"/>\n",
       "<polygon fill=\"black\" stroke=\"black\" points=\"197.235,-189.641 198.696,-179.147 191.01,-186.439 197.235,-189.641\"/>\n",
       "</g>\n",
       "<!-- 845deae4&#45;6ec1&#45;11ea&#45;81d9&#45;001c42e11dbf -->\n",
       "<g id=\"node3\" class=\"node\"><title>845deae4&#45;6ec1&#45;11ea&#45;81d9&#45;001c42e11dbf</title>\n",
       "<ellipse fill=\"skyblue\" stroke=\"skyblue\" cx=\"63\" cy=\"-90\" rx=\"27\" ry=\"18\"/>\n",
       "<text text-anchor=\"middle\" x=\"63\" y=\"-86.3\" font-family=\"Times,serif\" font-size=\"14.00\">17</text>\n",
       "</g>\n",
       "<!-- 845de7d8&#45;6ec1&#45;11ea&#45;81d9&#45;001c42e11dbf&#45;&gt;845deae4&#45;6ec1&#45;11ea&#45;81d9&#45;001c42e11dbf -->\n",
       "<g id=\"edge2\" class=\"edge\"><title>845de7d8&#45;6ec1&#45;11ea&#45;81d9&#45;001c42e11dbf&#45;&gt;845deae4&#45;6ec1&#45;11ea&#45;81d9&#45;001c42e11dbf</title>\n",
       "<path fill=\"none\" stroke=\"black\" d=\"M120.43,-146.834C110.25,-136.938 96.4761,-123.546 84.9694,-112.359\"/>\n",
       "<polygon fill=\"black\" stroke=\"black\" points=\"87.4055,-109.846 77.7957,-105.385 82.5259,-114.865 87.4055,-109.846\"/>\n",
       "</g>\n",
       "<!-- 845df70a&#45;6ec1&#45;11ea&#45;81d9&#45;001c42e11dbf -->\n",
       "<g id=\"node6\" class=\"node\"><title>845df70a&#45;6ec1&#45;11ea&#45;81d9&#45;001c42e11dbf</title>\n",
       "<ellipse fill=\"skyblue\" stroke=\"skyblue\" cx=\"135\" cy=\"-90\" rx=\"27\" ry=\"18\"/>\n",
       "<text text-anchor=\"middle\" x=\"135\" y=\"-86.3\" font-family=\"Times,serif\" font-size=\"14.00\">6</text>\n",
       "</g>\n",
       "<!-- 845de7d8&#45;6ec1&#45;11ea&#45;81d9&#45;001c42e11dbf&#45;&gt;845df70a&#45;6ec1&#45;11ea&#45;81d9&#45;001c42e11dbf -->\n",
       "<g id=\"edge5\" class=\"edge\"><title>845de7d8&#45;6ec1&#45;11ea&#45;81d9&#45;001c42e11dbf&#45;&gt;845df70a&#45;6ec1&#45;11ea&#45;81d9&#45;001c42e11dbf</title>\n",
       "<path fill=\"none\" stroke=\"black\" d=\"M135,-143.697C135,-135.983 135,-126.712 135,-118.112\"/>\n",
       "<polygon fill=\"black\" stroke=\"black\" points=\"138.5,-118.104 135,-108.104 131.5,-118.104 138.5,-118.104\"/>\n",
       "</g>\n",
       "<!-- 845ded5a&#45;6ec1&#45;11ea&#45;81d9&#45;001c42e11dbf -->\n",
       "<g id=\"node4\" class=\"node\"><title>845ded5a&#45;6ec1&#45;11ea&#45;81d9&#45;001c42e11dbf</title>\n",
       "<ellipse fill=\"orange\" stroke=\"orange\" cx=\"27\" cy=\"-18\" rx=\"27\" ry=\"18\"/>\n",
       "<text text-anchor=\"middle\" x=\"27\" y=\"-14.3\" font-family=\"Times,serif\" font-size=\"14.00\">7</text>\n",
       "</g>\n",
       "<!-- 845deae4&#45;6ec1&#45;11ea&#45;81d9&#45;001c42e11dbf&#45;&gt;845ded5a&#45;6ec1&#45;11ea&#45;81d9&#45;001c42e11dbf -->\n",
       "<g id=\"edge3\" class=\"edge\"><title>845deae4&#45;6ec1&#45;11ea&#45;81d9&#45;001c42e11dbf&#45;&gt;845ded5a&#45;6ec1&#45;11ea&#45;81d9&#45;001c42e11dbf</title>\n",
       "<path fill=\"none\" stroke=\"black\" d=\"M54.6504,-72.7646C50.2885,-64.2831 44.8531,-53.7144 39.9587,-44.1974\"/>\n",
       "<polygon fill=\"black\" stroke=\"black\" points=\"42.9904,-42.4395 35.3043,-35.1473 36.7654,-45.6409 42.9904,-42.4395\"/>\n",
       "</g>\n",
       "<!-- 845def8a&#45;6ec1&#45;11ea&#45;81d9&#45;001c42e11dbf -->\n",
       "<g id=\"node5\" class=\"node\"><title>845def8a&#45;6ec1&#45;11ea&#45;81d9&#45;001c42e11dbf</title>\n",
       "<ellipse fill=\"orange\" stroke=\"orange\" cx=\"99\" cy=\"-18\" rx=\"27\" ry=\"18\"/>\n",
       "<text text-anchor=\"middle\" x=\"99\" y=\"-14.3\" font-family=\"Times,serif\" font-size=\"14.00\">3</text>\n",
       "</g>\n",
       "<!-- 845deae4&#45;6ec1&#45;11ea&#45;81d9&#45;001c42e11dbf&#45;&gt;845def8a&#45;6ec1&#45;11ea&#45;81d9&#45;001c42e11dbf -->\n",
       "<g id=\"edge4\" class=\"edge\"><title>845deae4&#45;6ec1&#45;11ea&#45;81d9&#45;001c42e11dbf&#45;&gt;845def8a&#45;6ec1&#45;11ea&#45;81d9&#45;001c42e11dbf</title>\n",
       "<path fill=\"none\" stroke=\"black\" d=\"M71.3496,-72.7646C75.7115,-64.2831 81.1469,-53.7144 86.0413,-44.1974\"/>\n",
       "<polygon fill=\"black\" stroke=\"black\" points=\"89.2346,-45.6409 90.6957,-35.1473 83.0096,-42.4395 89.2346,-45.6409\"/>\n",
       "</g>\n",
       "<!-- 845dfd90&#45;6ec1&#45;11ea&#45;81d9&#45;001c42e11dbf -->\n",
       "<g id=\"node8\" class=\"node\"><title>845dfd90&#45;6ec1&#45;11ea&#45;81d9&#45;001c42e11dbf</title>\n",
       "<ellipse fill=\"yellow\" stroke=\"yellow\" cx=\"207\" cy=\"-90\" rx=\"27\" ry=\"18\"/>\n",
       "<text text-anchor=\"middle\" x=\"207\" y=\"-86.3\" font-family=\"Times,serif\" font-size=\"14.00\">3</text>\n",
       "</g>\n",
       "<!-- 845dfa66&#45;6ec1&#45;11ea&#45;81d9&#45;001c42e11dbf&#45;&gt;845dfd90&#45;6ec1&#45;11ea&#45;81d9&#45;001c42e11dbf -->\n",
       "<g id=\"edge7\" class=\"edge\"><title>845dfa66&#45;6ec1&#45;11ea&#45;81d9&#45;001c42e11dbf&#45;&gt;845dfd90&#45;6ec1&#45;11ea&#45;81d9&#45;001c42e11dbf</title>\n",
       "<path fill=\"none\" stroke=\"black\" d=\"M207,-143.697C207,-135.983 207,-126.712 207,-118.112\"/>\n",
       "<polygon fill=\"black\" stroke=\"black\" points=\"210.5,-118.104 207,-108.104 203.5,-118.104 210.5,-118.104\"/>\n",
       "</g>\n",
       "<!-- 845e045c&#45;6ec1&#45;11ea&#45;81d9&#45;001c42e11dbf -->\n",
       "<g id=\"node11\" class=\"node\"><title>845e045c&#45;6ec1&#45;11ea&#45;81d9&#45;001c42e11dbf</title>\n",
       "<ellipse fill=\"yellow\" stroke=\"yellow\" cx=\"279\" cy=\"-90\" rx=\"27\" ry=\"18\"/>\n",
       "<text text-anchor=\"middle\" x=\"279\" y=\"-86.3\" font-family=\"Times,serif\" font-size=\"14.00\">11</text>\n",
       "</g>\n",
       "<!-- 845dfa66&#45;6ec1&#45;11ea&#45;81d9&#45;001c42e11dbf&#45;&gt;845e045c&#45;6ec1&#45;11ea&#45;81d9&#45;001c42e11dbf -->\n",
       "<g id=\"edge10\" class=\"edge\"><title>845dfa66&#45;6ec1&#45;11ea&#45;81d9&#45;001c42e11dbf&#45;&gt;845e045c&#45;6ec1&#45;11ea&#45;81d9&#45;001c42e11dbf</title>\n",
       "<path fill=\"none\" stroke=\"black\" d=\"M221.57,-146.834C231.75,-136.938 245.524,-123.546 257.031,-112.359\"/>\n",
       "<polygon fill=\"black\" stroke=\"black\" points=\"259.474,-114.865 264.204,-105.385 254.595,-109.846 259.474,-114.865\"/>\n",
       "</g>\n",
       "<!-- 845dfff2&#45;6ec1&#45;11ea&#45;81d9&#45;001c42e11dbf -->\n",
       "<g id=\"node9\" class=\"node\"><title>845dfff2&#45;6ec1&#45;11ea&#45;81d9&#45;001c42e11dbf</title>\n",
       "<ellipse fill=\"skyblue\" stroke=\"skyblue\" cx=\"189\" cy=\"-18\" rx=\"27\" ry=\"18\"/>\n",
       "<text text-anchor=\"middle\" x=\"189\" y=\"-14.3\" font-family=\"Times,serif\" font-size=\"14.00\">12</text>\n",
       "</g>\n",
       "<!-- 845dfd90&#45;6ec1&#45;11ea&#45;81d9&#45;001c42e11dbf&#45;&gt;845dfff2&#45;6ec1&#45;11ea&#45;81d9&#45;001c42e11dbf -->\n",
       "<g id=\"edge8\" class=\"edge\"><title>845dfd90&#45;6ec1&#45;11ea&#45;81d9&#45;001c42e11dbf&#45;&gt;845dfff2&#45;6ec1&#45;11ea&#45;81d9&#45;001c42e11dbf</title>\n",
       "<path fill=\"none\" stroke=\"black\" d=\"M202.643,-72.055C200.609,-64.1446 198.139,-54.5398 195.863,-45.6879\"/>\n",
       "<polygon fill=\"black\" stroke=\"black\" points=\"199.197,-44.6023 193.317,-35.789 192.418,-46.3456 199.197,-44.6023\"/>\n",
       "</g>\n",
       "<!-- 845e0254&#45;6ec1&#45;11ea&#45;81d9&#45;001c42e11dbf -->\n",
       "<g id=\"node10\" class=\"node\"><title>845e0254&#45;6ec1&#45;11ea&#45;81d9&#45;001c42e11dbf</title>\n",
       "<ellipse fill=\"skyblue\" stroke=\"skyblue\" cx=\"261\" cy=\"-18\" rx=\"27\" ry=\"18\"/>\n",
       "<text text-anchor=\"middle\" x=\"261\" y=\"-14.3\" font-family=\"Times,serif\" font-size=\"14.00\">13</text>\n",
       "</g>\n",
       "<!-- 845dfd90&#45;6ec1&#45;11ea&#45;81d9&#45;001c42e11dbf&#45;&gt;845e0254&#45;6ec1&#45;11ea&#45;81d9&#45;001c42e11dbf -->\n",
       "<g id=\"edge9\" class=\"edge\"><title>845dfd90&#45;6ec1&#45;11ea&#45;81d9&#45;001c42e11dbf&#45;&gt;845e0254&#45;6ec1&#45;11ea&#45;81d9&#45;001c42e11dbf</title>\n",
       "<path fill=\"none\" stroke=\"black\" d=\"M218.984,-73.4647C225.976,-64.4021 234.936,-52.7865 242.785,-42.6119\"/>\n",
       "<polygon fill=\"black\" stroke=\"black\" points=\"245.712,-44.5475 249.049,-34.4918 240.17,-40.2719 245.712,-44.5475\"/>\n",
       "</g>\n",
       "</g>\n",
       "</svg>\n"
      ],
      "text/plain": [
       "<graphviz.dot.Digraph at 0x7f6441486430>"
      ]
     },
     "execution_count": 25,
     "metadata": {},
     "output_type": "execute_result"
    }
   ],
   "source": [
    "tree = [5,1,4,17,6,3,11,7,3,None,None,12,13]\n",
    "tree = BTree.from_list(tree)\n",
    "tree.print_tree()"
   ]
  },
  {
   "cell_type": "code",
   "execution_count": 26,
   "metadata": {},
   "outputs": [
    {
     "name": "stdout",
     "output_type": "stream",
     "text": [
      "5 1 17 7 3 6 4 3 12 13 11 "
     ]
    }
   ],
   "source": [
    "tree.preorder()"
   ]
  },
  {
   "cell_type": "code",
   "execution_count": 13,
   "metadata": {},
   "outputs": [
    {
     "name": "stdout",
     "output_type": "stream",
     "text": [
      "None\n"
     ]
    }
   ],
   "source": [
    "def nearest_common_ancestor(root, p, q):\n",
    "    if root is None or root.data == p or root.data == q: return root\n",
    "    left = nearest_common_ancestor(root.left, p, q)\n",
    "    right = nearest_common_ancestor(root.right, p, q)\n",
    "    return right if left is None else (left if right is None else root)\n",
    "\n",
    "p, q = 15, 16\n",
    "print(nearest_common_ancestor(tree, p, q))"
   ]
  },
  {
   "cell_type": "code",
   "execution_count": 16,
   "metadata": {},
   "outputs": [
    {
     "data": {
      "text/plain": [
       "False"
      ]
     },
     "execution_count": 16,
     "metadata": {},
     "output_type": "execute_result"
    }
   ],
   "source": [
    "def is_valid_bst(root):\n",
    "    l = root.inorder()\n",
    "    return l == sorted(l)\n",
    "\n",
    "is_valid_bst(tree)"
   ]
  },
  {
   "cell_type": "code",
   "execution_count": 23,
   "metadata": {},
   "outputs": [
    {
     "data": {
      "image/svg+xml": [
       "<?xml version=\"1.0\" encoding=\"UTF-8\" standalone=\"no\"?>\n",
       "<!DOCTYPE svg PUBLIC \"-//W3C//DTD SVG 1.1//EN\"\n",
       " \"http://www.w3.org/Graphics/SVG/1.1/DTD/svg11.dtd\">\n",
       "<!-- Generated by graphviz version 2.30.1 (20180420.1509)\n",
       " -->\n",
       "<!-- Title: %3 Pages: 1 -->\n",
       "<svg width=\"278pt\" height=\"188pt\"\n",
       " viewBox=\"0.00 0.00 278.00 188.00\" xmlns=\"http://www.w3.org/2000/svg\" xmlns:xlink=\"http://www.w3.org/1999/xlink\">\n",
       "<g id=\"graph0\" class=\"graph\" transform=\"scale(1 1) rotate(0) translate(4 184)\">\n",
       "<title>%3</title>\n",
       "<polygon fill=\"white\" stroke=\"white\" points=\"-4,5 -4,-184 275,-184 275,5 -4,5\"/>\n",
       "<!-- a31501dc&#45;6eaf&#45;11ea&#45;81d9&#45;001c42e11dbf -->\n",
       "<g id=\"node1\" class=\"node\"><title>a31501dc&#45;6eaf&#45;11ea&#45;81d9&#45;001c42e11dbf</title>\n",
       "<ellipse fill=\"green\" stroke=\"green\" cx=\"135\" cy=\"-162\" rx=\"27\" ry=\"18\"/>\n",
       "<text text-anchor=\"middle\" x=\"135\" y=\"-158.3\" font-family=\"Times,serif\" font-size=\"14.00\">5</text>\n",
       "</g>\n",
       "<!-- a3150754&#45;6eaf&#45;11ea&#45;81d9&#45;001c42e11dbf -->\n",
       "<g id=\"node2\" class=\"node\"><title>a3150754&#45;6eaf&#45;11ea&#45;81d9&#45;001c42e11dbf</title>\n",
       "<ellipse fill=\"yellow\" stroke=\"yellow\" cx=\"99\" cy=\"-90\" rx=\"27\" ry=\"18\"/>\n",
       "<text text-anchor=\"middle\" x=\"99\" y=\"-86.3\" font-family=\"Times,serif\" font-size=\"14.00\">2</text>\n",
       "</g>\n",
       "<!-- a31501dc&#45;6eaf&#45;11ea&#45;81d9&#45;001c42e11dbf&#45;&gt;a3150754&#45;6eaf&#45;11ea&#45;81d9&#45;001c42e11dbf -->\n",
       "<g id=\"edge1\" class=\"edge\"><title>a31501dc&#45;6eaf&#45;11ea&#45;81d9&#45;001c42e11dbf&#45;&gt;a3150754&#45;6eaf&#45;11ea&#45;81d9&#45;001c42e11dbf</title>\n",
       "<path fill=\"none\" stroke=\"black\" d=\"M126.65,-144.765C122.288,-136.283 116.853,-125.714 111.959,-116.197\"/>\n",
       "<polygon fill=\"black\" stroke=\"black\" points=\"114.99,-114.439 107.304,-107.147 108.765,-117.641 114.99,-114.439\"/>\n",
       "</g>\n",
       "<!-- a31510fa&#45;6eaf&#45;11ea&#45;81d9&#45;001c42e11dbf -->\n",
       "<g id=\"node5\" class=\"node\"><title>a31510fa&#45;6eaf&#45;11ea&#45;81d9&#45;001c42e11dbf</title>\n",
       "<ellipse fill=\"yellow\" stroke=\"yellow\" cx=\"171\" cy=\"-90\" rx=\"27\" ry=\"18\"/>\n",
       "<text text-anchor=\"middle\" x=\"171\" y=\"-86.3\" font-family=\"Times,serif\" font-size=\"14.00\">7</text>\n",
       "</g>\n",
       "<!-- a31501dc&#45;6eaf&#45;11ea&#45;81d9&#45;001c42e11dbf&#45;&gt;a31510fa&#45;6eaf&#45;11ea&#45;81d9&#45;001c42e11dbf -->\n",
       "<g id=\"edge4\" class=\"edge\"><title>a31501dc&#45;6eaf&#45;11ea&#45;81d9&#45;001c42e11dbf&#45;&gt;a31510fa&#45;6eaf&#45;11ea&#45;81d9&#45;001c42e11dbf</title>\n",
       "<path fill=\"none\" stroke=\"black\" d=\"M143.35,-144.765C147.712,-136.283 153.147,-125.714 158.041,-116.197\"/>\n",
       "<polygon fill=\"black\" stroke=\"black\" points=\"161.235,-117.641 162.696,-107.147 155.01,-114.439 161.235,-117.641\"/>\n",
       "</g>\n",
       "<!-- a3150a2e&#45;6eaf&#45;11ea&#45;81d9&#45;001c42e11dbf -->\n",
       "<g id=\"node3\" class=\"node\"><title>a3150a2e&#45;6eaf&#45;11ea&#45;81d9&#45;001c42e11dbf</title>\n",
       "<ellipse fill=\"purple\" stroke=\"purple\" cx=\"27\" cy=\"-18\" rx=\"27\" ry=\"18\"/>\n",
       "<text text-anchor=\"middle\" x=\"27\" y=\"-14.3\" font-family=\"Times,serif\" font-size=\"14.00\">1</text>\n",
       "</g>\n",
       "<!-- a3150754&#45;6eaf&#45;11ea&#45;81d9&#45;001c42e11dbf&#45;&gt;a3150a2e&#45;6eaf&#45;11ea&#45;81d9&#45;001c42e11dbf -->\n",
       "<g id=\"edge2\" class=\"edge\"><title>a3150754&#45;6eaf&#45;11ea&#45;81d9&#45;001c42e11dbf&#45;&gt;a3150a2e&#45;6eaf&#45;11ea&#45;81d9&#45;001c42e11dbf</title>\n",
       "<path fill=\"none\" stroke=\"black\" d=\"M84.4297,-74.8345C74.2501,-64.9376 60.4761,-51.5462 48.9694,-40.3591\"/>\n",
       "<polygon fill=\"black\" stroke=\"black\" points=\"51.4055,-37.8461 41.7957,-33.3847 46.5259,-42.865 51.4055,-37.8461\"/>\n",
       "</g>\n",
       "<!-- a3150e48&#45;6eaf&#45;11ea&#45;81d9&#45;001c42e11dbf -->\n",
       "<g id=\"node4\" class=\"node\"><title>a3150e48&#45;6eaf&#45;11ea&#45;81d9&#45;001c42e11dbf</title>\n",
       "<ellipse fill=\"purple\" stroke=\"purple\" cx=\"99\" cy=\"-18\" rx=\"27\" ry=\"18\"/>\n",
       "<text text-anchor=\"middle\" x=\"99\" y=\"-14.3\" font-family=\"Times,serif\" font-size=\"14.00\">3</text>\n",
       "</g>\n",
       "<!-- a3150754&#45;6eaf&#45;11ea&#45;81d9&#45;001c42e11dbf&#45;&gt;a3150e48&#45;6eaf&#45;11ea&#45;81d9&#45;001c42e11dbf -->\n",
       "<g id=\"edge3\" class=\"edge\"><title>a3150754&#45;6eaf&#45;11ea&#45;81d9&#45;001c42e11dbf&#45;&gt;a3150e48&#45;6eaf&#45;11ea&#45;81d9&#45;001c42e11dbf</title>\n",
       "<path fill=\"none\" stroke=\"black\" d=\"M99,-71.6966C99,-63.9827 99,-54.7125 99,-46.1124\"/>\n",
       "<polygon fill=\"black\" stroke=\"black\" points=\"102.5,-46.1043 99,-36.1043 95.5001,-46.1044 102.5,-46.1043\"/>\n",
       "</g>\n",
       "<!-- a3152996&#45;6eaf&#45;11ea&#45;81d9&#45;001c42e11dbf -->\n",
       "<g id=\"node6\" class=\"node\"><title>a3152996&#45;6eaf&#45;11ea&#45;81d9&#45;001c42e11dbf</title>\n",
       "<ellipse fill=\"pink\" stroke=\"pink\" cx=\"171\" cy=\"-18\" rx=\"27\" ry=\"18\"/>\n",
       "<text text-anchor=\"middle\" x=\"171\" y=\"-14.3\" font-family=\"Times,serif\" font-size=\"14.00\">5</text>\n",
       "</g>\n",
       "<!-- a31510fa&#45;6eaf&#45;11ea&#45;81d9&#45;001c42e11dbf&#45;&gt;a3152996&#45;6eaf&#45;11ea&#45;81d9&#45;001c42e11dbf -->\n",
       "<g id=\"edge5\" class=\"edge\"><title>a31510fa&#45;6eaf&#45;11ea&#45;81d9&#45;001c42e11dbf&#45;&gt;a3152996&#45;6eaf&#45;11ea&#45;81d9&#45;001c42e11dbf</title>\n",
       "<path fill=\"none\" stroke=\"black\" d=\"M171,-71.6966C171,-63.9827 171,-54.7125 171,-46.1124\"/>\n",
       "<polygon fill=\"black\" stroke=\"black\" points=\"174.5,-46.1043 171,-36.1043 167.5,-46.1044 174.5,-46.1043\"/>\n",
       "</g>\n",
       "<!-- a3152ca2&#45;6eaf&#45;11ea&#45;81d9&#45;001c42e11dbf -->\n",
       "<g id=\"node7\" class=\"node\"><title>a3152ca2&#45;6eaf&#45;11ea&#45;81d9&#45;001c42e11dbf</title>\n",
       "<ellipse fill=\"pink\" stroke=\"pink\" cx=\"243\" cy=\"-18\" rx=\"27\" ry=\"18\"/>\n",
       "<text text-anchor=\"middle\" x=\"243\" y=\"-14.3\" font-family=\"Times,serif\" font-size=\"14.00\">8</text>\n",
       "</g>\n",
       "<!-- a31510fa&#45;6eaf&#45;11ea&#45;81d9&#45;001c42e11dbf&#45;&gt;a3152ca2&#45;6eaf&#45;11ea&#45;81d9&#45;001c42e11dbf -->\n",
       "<g id=\"edge6\" class=\"edge\"><title>a31510fa&#45;6eaf&#45;11ea&#45;81d9&#45;001c42e11dbf&#45;&gt;a3152ca2&#45;6eaf&#45;11ea&#45;81d9&#45;001c42e11dbf</title>\n",
       "<path fill=\"none\" stroke=\"black\" d=\"M185.57,-74.8345C195.75,-64.9376 209.524,-51.5462 221.031,-40.3591\"/>\n",
       "<polygon fill=\"black\" stroke=\"black\" points=\"223.474,-42.865 228.204,-33.3847 218.595,-37.8461 223.474,-42.865\"/>\n",
       "</g>\n",
       "</g>\n",
       "</svg>\n"
      ],
      "text/plain": [
       "<graphviz.dot.Digraph at 0x7f6440ba3220>"
      ]
     },
     "execution_count": 23,
     "metadata": {},
     "output_type": "execute_result"
    }
   ],
   "source": [
    "tree = [5, 2, 7, 1, 3, 5, 8]\n",
    "tree = BTree.from_list(tree)\n",
    "tree.print_tree()"
   ]
  },
  {
   "cell_type": "code",
   "execution_count": 22,
   "metadata": {},
   "outputs": [
    {
     "data": {
      "text/plain": [
       "True"
      ]
     },
     "execution_count": 22,
     "metadata": {},
     "output_type": "execute_result"
    }
   ],
   "source": [
    "def is_valid_bst(root, vmin=None, vmax=None):\n",
    "    if root is None: return True\n",
    "    if vmin is not None and root.data <= vmin: return False\n",
    "    if vmax is not None and root.data >= vmax: return False\n",
    "    return is_valid_bst(root.left, vmin, root.data) and is_valid_bst(root.right, root.data, vmax)\n",
    "\n",
    "is_valid_bst(tree)"
   ]
  },
  {
   "cell_type": "code",
   "execution_count": 6,
   "metadata": {},
   "outputs": [],
   "source": [
    "# 局部最优解\n",
    "\n",
    "def max_profit(data):\n",
    "    if not data: return 0\n",
    "    profit = 0\n",
    "    \n",
    "    for i, v in enumerate(data):\n",
    "        if i < len(data) -1 and data[i] < data[i+1]:\n",
    "            profit += data[i+1] - data[i]\n",
    "    return profit"
   ]
  },
  {
   "cell_type": "code",
   "execution_count": 8,
   "metadata": {},
   "outputs": [
    {
     "data": {
      "text/plain": [
       "7"
      ]
     },
     "execution_count": 8,
     "metadata": {},
     "output_type": "execute_result"
    }
   ],
   "source": [
    "max_profit([1,2,3,4,5]) \n",
    "max_profit([7,1,5,3,6,4])"
   ]
  },
  {
   "cell_type": "code",
   "execution_count": 41,
   "metadata": {},
   "outputs": [],
   "source": [
    "def bfs(root):\n",
    "    visited = set()\n",
    "    queue = []\n",
    "    queue.append(root)\n",
    "    ret = []\n",
    "    \n",
    "    while queue:\n",
    "        node = queue.pop(0)\n",
    "        visited.add(node)\n",
    "        ret.append(node.data)\n",
    "        \n",
    "        if node.left and node.left not in visited:\n",
    "            queue.append(node.left)\n",
    "        if node.right and node.right not in visited:\n",
    "            queue.append(node.right)\n",
    "            \n",
    "    return ret"
   ]
  },
  {
   "cell_type": "code",
   "execution_count": 42,
   "metadata": {},
   "outputs": [
    {
     "data": {
      "text/plain": [
       "[5, 2, 7, 1, 3, 5, 8]"
      ]
     },
     "execution_count": 42,
     "metadata": {},
     "output_type": "execute_result"
    }
   ],
   "source": [
    "tree = [5, 2, 7, 1, 3, 5, 8]\n",
    "tree = BTree.from_list(tree)\n",
    "bfs(tree)"
   ]
  },
  {
   "cell_type": "code",
   "execution_count": 23,
   "metadata": {},
   "outputs": [],
   "source": [
    "def bfs_by_layer(root):\n",
    "    visited = set()\n",
    "    queue = []\n",
    "    queue.append(root)\n",
    "    ret = []\n",
    "    \n",
    "    while queue:\n",
    "        level_size = len(queue)\n",
    "        level_queue = []\n",
    "        \n",
    "        for _ in range(level_size):\n",
    "            node = queue.pop(0)\n",
    "            level_queue.append(node.data)\n",
    "            visited.add(node)\n",
    "            \n",
    "            if node.left and node.left not in visited:\n",
    "                queue.append(node.left)\n",
    "            if node.right and node.right not in visited:\n",
    "                queue.append(node.right)\n",
    "        ret.append(level_queue)\n",
    "    return ret"
   ]
  },
  {
   "cell_type": "code",
   "execution_count": 24,
   "metadata": {},
   "outputs": [
    {
     "data": {
      "text/plain": [
       "[[5], [2, 7], [1, 3, 5, 8]]"
      ]
     },
     "execution_count": 24,
     "metadata": {},
     "output_type": "execute_result"
    }
   ],
   "source": [
    "tree = [5, 2, 7, 1, 3, 5, 8]\n",
    "tree = BTree.from_list(tree)\n",
    "bfs_by_layer(tree)"
   ]
  },
  {
   "cell_type": "code",
   "execution_count": 27,
   "metadata": {},
   "outputs": [],
   "source": [
    "def min_depth(root):\n",
    "    if not root: return 0\n",
    "    left = min_depth(root.left)\n",
    "    right = min_depth(root.right)\n",
    "    if left == 0 or right == 0:\n",
    "        return left + right + 1\n",
    "    else:\n",
    "        return min(left, right)+1"
   ]
  },
  {
   "cell_type": "code",
   "execution_count": 38,
   "metadata": {},
   "outputs": [
    {
     "data": {
      "text/plain": [
       "3"
      ]
     },
     "execution_count": 38,
     "metadata": {},
     "output_type": "execute_result"
    }
   ],
   "source": [
    "tree = [5,1,7,3,8, 7, 8, 19, 3]\n",
    "tree = BTree.from_list(tree)\n",
    "min_depth(tree)"
   ]
  },
  {
   "cell_type": "code",
   "execution_count": 39,
   "metadata": {},
   "outputs": [],
   "source": [
    "def max_depth(root):\n",
    "    if not root: return 0\n",
    "    left = max_depth(root.left)\n",
    "    right = max_depth(root.right)\n",
    "    return max(left, right) + 1"
   ]
  },
  {
   "cell_type": "code",
   "execution_count": 40,
   "metadata": {},
   "outputs": [
    {
     "data": {
      "text/plain": [
       "5"
      ]
     },
     "execution_count": 40,
     "metadata": {},
     "output_type": "execute_result"
    }
   ],
   "source": [
    "tree = [5,1,7,3,8, 7, 8, 19, 3,1,1,1,1,1,1,1,1,]\n",
    "tree = BTree.from_list(tree)\n",
    "max_depth(tree)"
   ]
  }
 ],
 "metadata": {
  "kernelspec": {
   "display_name": "Python 3",
   "language": "python",
   "name": "python3"
  },
  "language_info": {
   "codemirror_mode": {
    "name": "ipython",
    "version": 3
   },
   "file_extension": ".py",
   "mimetype": "text/x-python",
   "name": "python",
   "nbconvert_exporter": "python",
   "pygments_lexer": "ipython3",
   "version": "3.8.1"
  }
 },
 "nbformat": 4,
 "nbformat_minor": 4
}
