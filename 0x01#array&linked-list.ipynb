{
 "cells": [
  {
   "cell_type": "markdown",
   "metadata": {},
   "source": [
    "# 数组和链表"
   ]
  },
  {
   "cell_type": "code",
   "execution_count": null,
   "metadata": {},
   "outputs": [],
   "source": [
    "数组(Array)\n",
    "\n",
    "Access: O(1)\n",
    "Insert: O(n)\n",
    "Delete: O(n)"
   ]
  },
  {
   "cell_type": "markdown",
   "metadata": {},
   "source": [
    "链表数据结构\n",
    "\n",
    "链表与数组对比的优势\n",
    "\n",
    "⑴ 插入和删除比较多\n",
    "⑵ 不知道有多少个元素会进来，比如BlockChain"
   ]
  },
  {
   "cell_type": "code",
   "execution_count": 4,
   "metadata": {},
   "outputs": [],
   "source": [
    "import copy\n",
    "\n",
    "class ListNode:\n",
    "    def __init__(self, x=None):\n",
    "        self.val = x\n",
    "        self.next = None\n",
    "    \n",
    "    def __str__(self):\n",
    "        return '(ListNode {value})->{next}'.format(value=self.val, next=self.next)\n",
    "        \n",
    "class LinkedList:\n",
    "    def __init__(self):\n",
    "        dummy_node = ListNode('dummy')\n",
    "        self.head = dummy_node\n",
    "        self.tail = dummy_node\n",
    "        \n",
    "    def __str__(self):\n",
    "        return '<LinkedList {head}>'.format(head=self.head)\n",
    "        \n",
    "    @classmethod\n",
    "    def from_list(cls, l):\n",
    "        linked_list = cls()\n",
    "        for s in l:\n",
    "            linked_list.insert(s)\n",
    "        return linked_list\n",
    "            \n",
    "    def insert(self, x):\n",
    "        node = ListNode(x)\n",
    "        self.tail.next = node \n",
    "        self.tail = node\n",
    "        \n",
    "    def iter(self):\n",
    "        cur = self.head\n",
    "        while cur.next:\n",
    "            yield cur.next\n",
    "            cur = copy.copy(cur.next)\n",
    "            \n",
    "    def search(self, x):\n",
    "        pre_node = None\n",
    "        for node in self.iter():\n",
    "            if x == node.val:\n",
    "                return pre_node, node\n",
    "            pre_node = node\n",
    "        return None, None\n",
    "    \n",
    "    def delete(self, x):\n",
    "        pre_node, node = self.search(x)\n",
    "        if pre_node or node:\n",
    "            pre_node.next = node.next\n",
    "            del node\n",
    "            return True\n",
    "        else:\n",
    "            return False"
   ]
  },
  {
   "cell_type": "code",
   "execution_count": 7,
   "metadata": {},
   "outputs": [
    {
     "name": "stdout",
     "output_type": "stream",
     "text": [
      "['x', 'q', 'L', 'C', 'F', 'v', 'M', 'Q', '9', 'l', 'N', '2', '7', 'r', 'W', 'T', 'a', 'o', 'j', '5', '8', 'Y', 'P', '1']\n",
      "(None, <__main__.ListNode object at 0x7f01484dd580>)\n",
      "False\n",
      "x\n",
      "q\n",
      "L\n",
      "C\n",
      "F\n",
      "v\n",
      "M\n",
      "Q\n",
      "9\n",
      "l\n",
      "N\n",
      "2\n",
      "7\n",
      "r\n",
      "W\n",
      "T\n",
      "a\n",
      "o\n",
      "j\n",
      "5\n",
      "8\n",
      "Y\n",
      "P\n",
      "1\n"
     ]
    }
   ],
   "source": [
    "import random \n",
    "import string\n",
    "\n",
    "test_data = random.sample(string.ascii_letters + string.digits, 24)\n",
    "print(test_data)\n",
    "\n",
    "linked_list = LinkedList()\n",
    "for s in test_data:\n",
    "    linked_list.insert(s)\n",
    "    \n",
    "print(linked_list.search('x'))\n",
    "print(linked_list.delete('b'))\n",
    "\n",
    "for node in linked_list.iter():\n",
    "    print(node.val)"
   ]
  },
  {
   "cell_type": "markdown",
   "metadata": {},
   "source": [
    "## 反转链表([reverse-linked-list](https://leetcode-cn.com/problems/reverse-linked-list/)) "
   ]
  },
  {
   "cell_type": "code",
   "execution_count": 8,
   "metadata": {},
   "outputs": [
    {
     "name": "stdout",
     "output_type": "stream",
     "text": [
      "<LinkedList (ListNode dummy)->(ListNode G)->(ListNode Q)->(ListNode v)->(ListNode f)->(ListNode s)->(ListNode F)->(ListNode 9)->(ListNode e)->(ListNode m)->(ListNode c)->(ListNode U)->(ListNode H)->(ListNode b)->(ListNode 3)->(ListNode n)->(ListNode E)->(ListNode 2)->(ListNode Y)->(ListNode V)->(ListNode M)->(ListNode 1)->(ListNode I)->(ListNode l)->(ListNode x)->(ListNode G)->(ListNode Q)->(ListNode v)->(ListNode f)->(ListNode s)->(ListNode F)->(ListNode 9)->(ListNode e)->(ListNode m)->(ListNode c)->(ListNode U)->(ListNode H)->(ListNode b)->(ListNode 3)->(ListNode n)->(ListNode E)->(ListNode 2)->(ListNode Y)->(ListNode V)->(ListNode M)->(ListNode 1)->(ListNode I)->(ListNode l)->(ListNode x)->(ListNode G)->(ListNode Q)->(ListNode v)->(ListNode f)->(ListNode s)->(ListNode F)->(ListNode 9)->(ListNode e)->(ListNode m)->(ListNode c)->(ListNode U)->(ListNode H)->(ListNode b)->(ListNode 3)->(ListNode n)->(ListNode E)->(ListNode 2)->(ListNode Y)->(ListNode V)->(ListNode M)->(ListNode 1)->(ListNode I)->(ListNode l)->(ListNode x)->(ListNode G)->(ListNode Q)->(ListNode v)->(ListNode f)->(ListNode s)->(ListNode F)->(ListNode 9)->(ListNode e)->(ListNode m)->(ListNode c)->(ListNode U)->(ListNode H)->(ListNode b)->(ListNode 3)->(ListNode n)->(ListNode E)->(ListNode 2)->(ListNode Y)->(ListNode V)->(ListNode M)->(ListNode 1)->(ListNode I)->(ListNode l)->(ListNode x)->(ListNode G)->(ListNode Q)->(ListNode v)->(ListNode f)->(ListNode s)->(ListNode F)->(ListNode 9)->(ListNode e)->(ListNode m)->(ListNode c)->(ListNode U)->(ListNode H)->(ListNode b)->(ListNode 3)->(ListNode n)->(ListNode E)->(ListNode 2)->(ListNode Y)->(ListNode V)->(ListNode M)->(ListNode 1)->(ListNode I)->(ListNode l)->(ListNode x)->None>\n",
      "<LinkedList (ListNode dummy)->(ListNode x)->(ListNode l)->(ListNode I)->(ListNode 1)->(ListNode M)->(ListNode V)->(ListNode Y)->(ListNode 2)->(ListNode E)->(ListNode n)->(ListNode 3)->(ListNode b)->(ListNode H)->(ListNode U)->(ListNode c)->(ListNode m)->(ListNode e)->(ListNode 9)->(ListNode F)->(ListNode s)->(ListNode f)->(ListNode v)->(ListNode Q)->(ListNode G)->(ListNode x)->(ListNode l)->(ListNode I)->(ListNode 1)->(ListNode M)->(ListNode V)->(ListNode Y)->(ListNode 2)->(ListNode E)->(ListNode n)->(ListNode 3)->(ListNode b)->(ListNode H)->(ListNode U)->(ListNode c)->(ListNode m)->(ListNode e)->(ListNode 9)->(ListNode F)->(ListNode s)->(ListNode f)->(ListNode v)->(ListNode Q)->(ListNode G)->(ListNode x)->(ListNode l)->(ListNode I)->(ListNode 1)->(ListNode M)->(ListNode V)->(ListNode Y)->(ListNode 2)->(ListNode E)->(ListNode n)->(ListNode 3)->(ListNode b)->(ListNode H)->(ListNode U)->(ListNode c)->(ListNode m)->(ListNode e)->(ListNode 9)->(ListNode F)->(ListNode s)->(ListNode f)->(ListNode v)->(ListNode Q)->(ListNode G)->(ListNode x)->(ListNode l)->(ListNode I)->(ListNode 1)->(ListNode M)->(ListNode V)->(ListNode Y)->(ListNode 2)->(ListNode E)->(ListNode n)->(ListNode 3)->(ListNode b)->(ListNode H)->(ListNode U)->(ListNode c)->(ListNode m)->(ListNode e)->(ListNode 9)->(ListNode F)->(ListNode s)->(ListNode f)->(ListNode v)->(ListNode Q)->(ListNode G)->(ListNode x)->(ListNode l)->(ListNode I)->(ListNode 1)->(ListNode M)->(ListNode V)->(ListNode Y)->(ListNode 2)->(ListNode E)->(ListNode n)->(ListNode 3)->(ListNode b)->(ListNode H)->(ListNode U)->(ListNode c)->(ListNode m)->(ListNode e)->(ListNode 9)->(ListNode F)->(ListNode s)->(ListNode f)->(ListNode v)->(ListNode Q)->(ListNode G)->None>\n"
     ]
    }
   ],
   "source": [
    "import random \n",
    "import string\n",
    "\n",
    "test_data = random.sample(string.ascii_letters + string.digits, 24) * 5\n",
    "input_linked_list = LinkedList.from_list(test_data)\n",
    "print(input_linked_list)\n",
    "    \n",
    "last1_node = None\n",
    "last2_node = None\n",
    "for node in input_linked_list.iter():\n",
    "    if last1_node:\n",
    "        last1_node.next = last2_node\n",
    "    last2_node = last1_node\n",
    "    last1_node = node\n",
    "last1_node.next = last2_node\n",
    "input_linked_list.head.next = last1_node\n",
    "print(input_linked_list)"
   ]
  },
  {
   "cell_type": "markdown",
   "metadata": {},
   "source": [
    "## 两两交换链表中的节点[swap-nodes-in-pair](https://leetcode-cn.com/problems/swap-nodes-in-pairs/)"
   ]
  },
  {
   "cell_type": "code",
   "execution_count": 9,
   "metadata": {},
   "outputs": [
    {
     "name": "stdout",
     "output_type": "stream",
     "text": [
      "<LinkedList (ListNode dummy)->(ListNode W)->(ListNode K)->(ListNode V)->(ListNode n)->(ListNode O)->(ListNode F)->(ListNode 7)->(ListNode Q)->(ListNode d)->(ListNode H)->(ListNode B)->(ListNode A)->(ListNode L)->(ListNode i)->(ListNode Z)->(ListNode G)->(ListNode q)->(ListNode 9)->(ListNode 6)->(ListNode z)->(ListNode I)->(ListNode r)->(ListNode C)->(ListNode u)->None>\n",
      "<LinkedList (ListNode dummy)->(ListNode K)->(ListNode W)->(ListNode n)->(ListNode V)->(ListNode F)->(ListNode O)->(ListNode Q)->(ListNode 7)->(ListNode H)->(ListNode d)->(ListNode A)->(ListNode B)->(ListNode i)->(ListNode L)->(ListNode G)->(ListNode Z)->(ListNode 9)->(ListNode q)->(ListNode z)->(ListNode 6)->(ListNode r)->(ListNode I)->(ListNode C)->(ListNode u)->None>\n"
     ]
    }
   ],
   "source": [
    "test_data = random.sample(string.ascii_letters + string.digits, 24)\n",
    "input_linked_list = LinkedList.from_list(test_data)\n",
    "print(input_linked_list)\n",
    "\n",
    "last1_node = input_linked_list.head\n",
    "last2_node = None\n",
    "last3_node = None\n",
    "i = 1\n",
    "for node in input_linked_list.iter():\n",
    "    if last1_node and last2_node and last3_node:\n",
    "        last3_node.next = last1_node\n",
    "        last1_node.next = last2_node\n",
    "        last2_node.next = node\n",
    "        last1_node = last2_node\n",
    "        last2_node = None\n",
    "        last3_node = None\n",
    "        \n",
    "    last3_node = last2_node\n",
    "    last2_node = last1_node\n",
    "    last1_node = node\n",
    "\n",
    "print(input_linked_list)"
   ]
  },
  {
   "cell_type": "markdown",
   "metadata": {},
   "source": [
    "## 环形链表[linked-list-cycle](https://leetcode-cn.com/problems/linked-list-cycle/)"
   ]
  },
  {
   "cell_type": "code",
   "execution_count": 10,
   "metadata": {},
   "outputs": [
    {
     "name": "stdout",
     "output_type": "stream",
     "text": [
      "pos: -3\n",
      "False\n"
     ]
    }
   ],
   "source": [
    "test_data = random.sample(string.ascii_letters + string.digits, 24)\n",
    "input_linked_list = LinkedList.from_list(test_data)\n",
    "cycle_pos = random.randint(-24, 24)\n",
    "print('pos:', cycle_pos)\n",
    "for pos, node in enumerate(input_linked_list.iter()):\n",
    "    if pos < 0:\n",
    "        break\n",
    "    elif pos == cycle_pos:\n",
    "        input_linked_list.tail.next = node\n",
    "        break\n",
    "\n",
    "def has_cycle(linked_list):\n",
    "    hashmap = {}\n",
    "    for node in linked_list.iter():\n",
    "        if node in hashmap.values():\n",
    "            return True\n",
    "        hashmap[node.val] = node\n",
    "    return False\n",
    "\n",
    "print(has_cycle(input_linked_list))\n"
   ]
  },
  {
   "cell_type": "markdown",
   "metadata": {},
   "source": []
  },
  {
   "cell_type": "code",
   "execution_count": null,
   "metadata": {},
   "outputs": [],
   "source": []
  }
 ],
 "metadata": {
  "kernelspec": {
   "display_name": "Python 3",
   "language": "python",
   "name": "python3"
  },
  "language_info": {
   "codemirror_mode": {
    "name": "ipython",
    "version": 3
   },
   "file_extension": ".py",
   "mimetype": "text/x-python",
   "name": "python",
   "nbconvert_exporter": "python",
   "pygments_lexer": "ipython3",
   "version": "3.8.1"
  }
 },
 "nbformat": 4,
 "nbformat_minor": 4
}
