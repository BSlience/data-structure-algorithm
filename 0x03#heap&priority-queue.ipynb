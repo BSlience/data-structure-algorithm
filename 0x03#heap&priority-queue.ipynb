{
 "cells": [
  {
   "cell_type": "markdown",
   "metadata": {},
   "source": [
    "# 堆和优先级队列"
   ]
  },
  {
   "cell_type": "markdown",
   "metadata": {},
   "source": [
    "通常堆顶都是最小的元素的一颗二叉树，也有最大顶的堆，具体看应用的场景。"
   ]
  },
  {
   "cell_type": "code",
   "execution_count": 6,
   "metadata": {},
   "outputs": [
    {
     "name": "stdout",
     "output_type": "stream",
     "text": [
      "[1, 8, 2, 23, 7, -4, 18, 23, 42, 37, 2]\n",
      "[2, 8, -4, 23, 7, 2, 18, 23, 42, 37]\n"
     ]
    }
   ],
   "source": [
    "import heapq\n",
    "\n",
    "heap = [1, 8, 2, 23, 7, -4, 18, 23, 42, 37, 2]\n",
    "heapq.heapify(x)\n",
    "print(heap)\n",
    "heapq.heappop(heap)\n",
    "print(heap)"
   ]
  },
  {
   "cell_type": "markdown",
   "metadata": {},
   "source": [
    "## [数据流中的第K大元素](https://leetcode-cn.com/problems/kth-largest-element-in-a-stream/)"
   ]
  },
  {
   "cell_type": "code",
   "execution_count": 22,
   "metadata": {},
   "outputs": [
    {
     "name": "stdout",
     "output_type": "stream",
     "text": [
      "[4, 3, 7, 1, 8]\n",
      "[3, 7, 4, 8]\n",
      "input: 3\n",
      "3\n",
      "input: 16\n",
      "4\n",
      "input: 6\n",
      "6\n",
      "input: 10\n",
      "7\n",
      "input: 13\n",
      "8\n",
      "input: 1\n",
      "8\n",
      "input: 0\n",
      "8\n",
      "input: 14\n",
      "10\n",
      "input: 17\n",
      "13\n",
      "input: 19\n",
      "14\n"
     ]
    }
   ],
   "source": [
    "import heapq\n",
    "import random \n",
    "\n",
    "k = 4\n",
    "input_stream = random.sample(range(0, 10), 5) \n",
    "print(input_stream)\n",
    "heap = list(sorted(input_stream, reverse=True))[:k]\n",
    "heapq.heapify(heap)\n",
    "print(heap)\n",
    "\n",
    "def max_k(heap, i):\n",
    "    if i > heap[0]:\n",
    "        heapq.heappushpop(heap, i)\n",
    "    return heap[0]        \n",
    "\n",
    "for i in random.sample(range(0, 20), 10):\n",
    "    print('input: {}'.format(i))\n",
    "    print(max_k(heap, i))"
   ]
  },
  {
   "cell_type": "code",
   "execution_count": 28,
   "metadata": {},
   "outputs": [
    {
     "name": "stdout",
     "output_type": "stream",
     "text": [
      "[6, 16, 14, 10, 7, 15, 1, 3, 18, 12]\n",
      "3\n",
      "7\n",
      "7\n",
      "7\n",
      "7\n",
      "12\n"
     ]
    }
   ],
   "source": [
    "import heapq\n",
    "\n",
    "def max_k(heap, i, k=4):\n",
    "    if len(heap) < k: return -1\n",
    "    \n",
    "    if i > heap[0]:\n",
    "        heapq.heappushpop(heap, i)\n",
    "    \n",
    "    return heap[0]\n",
    "\n",
    "random_stream = random.sample(range(0, 20), 10)\n",
    "print(random_stream)\n",
    "\n",
    "k=4\n",
    "heap = random_stream[k:]\n",
    "heapq.heapify(heap)\n",
    "for i in random_stream[k:]:\n",
    "    print(max_k(heap, i, k))"
   ]
  },
  {
   "cell_type": "markdown",
   "metadata": {},
   "source": [
    "## [滑动窗口最大值](https://leetcode-cn.com/problems/sliding-window-maximum/)"
   ]
  },
  {
   "cell_type": "code",
   "execution_count": 21,
   "metadata": {},
   "outputs": [],
   "source": [
    "def maxSlidingWindow(nums, k):\n",
    "    if not nums: nums = []\n",
    "    \n",
    "    # window存储nums中的下标\n",
    "    window, out = [], []\n",
    "    for i, x in enumerate(nums):\n",
    "        # 当i>=k时，此时表示窗口要向右移动；\n",
    "        # 并且，i-k>=window[0],这表示window左端将要滑出\n",
    "        # 这时要将队列顶部的元素弹出\n",
    "        if i >= k and window[0] <= i-k:\n",
    "            window.pop(0)\n",
    "    \n",
    "        # 新进入的值与window中的数字进行一一比较，如果新进入的数字大，则将当前尾部的元素去掉\n",
    "        while window and nums[window[-1]] <= x:\n",
    "            window.pop()\n",
    "            \n",
    "        # 正常情况下，将迭代的数字下标存入window\n",
    "        window.append(i)\n",
    "        \n",
    "        # 从i>=k-1开始，要将window中最左端(最大值)放入结果集中\n",
    "        if i>=k-1:\n",
    "            out.append(nums[window[0]])\n",
    "    return out"
   ]
  },
  {
   "cell_type": "code",
   "execution_count": 12,
   "metadata": {},
   "outputs": [
    {
     "name": "stdout",
     "output_type": "stream",
     "text": [
      "[55, 53, 28, -39, -89]\n",
      "[53, 28]\n"
     ]
    }
   ],
   "source": [
    "import random\n",
    "\n",
    "# 生成测试数据\n",
    "nums = random.sample(range(-random.randint(0, 100), random.randint(0, 100)), random.randint(0, 10))\n",
    "print(nums)\n",
    "\n",
    "print(maxSlidingWindow(nums, k=3))"
   ]
  }
 ],
 "metadata": {
  "kernelspec": {
   "display_name": "Python 3",
   "language": "python",
   "name": "python3"
  },
  "language_info": {
   "codemirror_mode": {
    "name": "ipython",
    "version": 3
   },
   "file_extension": ".py",
   "mimetype": "text/x-python",
   "name": "python",
   "nbconvert_exporter": "python",
   "pygments_lexer": "ipython3",
   "version": "3.8.1"
  }
 },
 "nbformat": 4,
 "nbformat_minor": 4
}
