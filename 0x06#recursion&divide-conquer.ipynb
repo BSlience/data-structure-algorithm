{
 "cells": [
  {
   "cell_type": "markdown",
   "metadata": {},
   "source": [
    "# 递归与分治"
   ]
  },
  {
   "cell_type": "markdown",
   "metadata": {},
   "source": [
    "## [POW](https://leetcode-cn.com/problems/powx-n/)"
   ]
  },
  {
   "cell_type": "code",
   "execution_count": 65,
   "metadata": {},
   "outputs": [],
   "source": [
    "# function 1\n",
    "def pow(x, n):\n",
    "    if n == 0: return 1\n",
    "    if n < 0:\n",
    "        return 1 // pow(x, -n)\n",
    "    if n % 2:\n",
    "        return x * pow(x, n-1)\n",
    "    return pow(x*x, n//2)"
   ]
  },
  {
   "cell_type": "code",
   "execution_count": 33,
   "metadata": {},
   "outputs": [
    {
     "data": {
      "text/plain": [
       "1024"
      ]
     },
     "execution_count": 33,
     "metadata": {},
     "output_type": "execute_result"
    }
   ],
   "source": [
    "pow(2, 10)"
   ]
  },
  {
   "cell_type": "code",
   "execution_count": 51,
   "metadata": {},
   "outputs": [],
   "source": [
    "# function 2\n",
    "def pow(x, n):\n",
    "    if n < 0:\n",
    "        x = 1 / x\n",
    "        n = -n\n",
    "    pow = 1\n",
    "    while n:\n",
    "        if n & 1:\n",
    "            pow *= x\n",
    "        x *= x\n",
    "        n >>= 1\n",
    "    return pow"
   ]
  },
  {
   "cell_type": "code",
   "execution_count": 52,
   "metadata": {},
   "outputs": [
    {
     "data": {
      "text/plain": [
       "1024"
      ]
     },
     "execution_count": 52,
     "metadata": {},
     "output_type": "execute_result"
    }
   ],
   "source": [
    "pow(2, 10)"
   ]
  },
  {
   "cell_type": "markdown",
   "metadata": {},
   "source": [
    "## [多数元素](https://leetcode-cn.com/problems/majority-element/)"
   ]
  },
  {
   "cell_type": "code",
   "execution_count": 63,
   "metadata": {},
   "outputs": [],
   "source": [
    "# function 1\n",
    "def marjority_element(l):\n",
    "    hashmap = {}\n",
    "    for i in l:\n",
    "        if i not in hashmap:\n",
    "            hashmap[i] = 1\n",
    "        else:\n",
    "            hashmap[i] += hashmap[i]\n",
    "    return max(hashmap, key=hashmap.get)"
   ]
  },
  {
   "cell_type": "code",
   "execution_count": 64,
   "metadata": {},
   "outputs": [
    {
     "data": {
      "text/plain": [
       "3"
      ]
     },
     "execution_count": 64,
     "metadata": {},
     "output_type": "execute_result"
    }
   ],
   "source": [
    "a = [3,2,3]\n",
    "marjority_element(a)"
   ]
  },
  {
   "cell_type": "code",
   "execution_count": null,
   "metadata": {},
   "outputs": [],
   "source": []
  }
 ],
 "metadata": {
  "kernelspec": {
   "display_name": "Python 3",
   "language": "python",
   "name": "python3"
  },
  "language_info": {
   "codemirror_mode": {
    "name": "ipython",
    "version": 3
   },
   "file_extension": ".py",
   "mimetype": "text/x-python",
   "name": "python",
   "nbconvert_exporter": "python",
   "pygments_lexer": "ipython3",
   "version": "3.8.1"
  }
 },
 "nbformat": 4,
 "nbformat_minor": 4
}
