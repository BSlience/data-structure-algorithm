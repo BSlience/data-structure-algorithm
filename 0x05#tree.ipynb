{
 "cells": [
  {
   "cell_type": "markdown",
   "metadata": {},
   "source": [
    "# 树(Tree)"
   ]
  },
  {
   "cell_type": "markdown",
   "metadata": {},
   "source": [
    "## [验证二叉搜索树](https://leetcode-cn.com/problems/validate-binary-search-tree/)"
   ]
  },
  {
   "cell_type": "code",
   "execution_count": 108,
   "metadata": {},
   "outputs": [],
   "source": [
    "from graphviz import Digraph\n",
    "import uuid\n",
    "from random import sample\n",
    "\n",
    "# 二叉树类\n",
    "class BTree(object):\n",
    "\n",
    "    # 初始化\n",
    "    def __init__(self, data=None, left=None, right=None):\n",
    "        self.data = data    # 数据域\n",
    "        self.left = left    # 左子树\n",
    "        self.right = right  # 右子树\n",
    "        self.dot = Digraph(comment='Binary Tree')\n",
    "        self.iter_num = 0\n",
    "        \n",
    "    @classmethod\n",
    "    def from_list(cls, l):\n",
    "        # [5,1,4,None,None,3,6]\n",
    "        root = BTree(l[0])\n",
    "        last_node = root\n",
    "        empty_node = []\n",
    "        for i in l[1:]:\n",
    "            if last_node.iter_num == 2:\n",
    "                last_node = empty_node.pop(0)\n",
    "                \n",
    "            node = BTree(i)\n",
    "            \n",
    "            if last_node.left is None and last_node.iter_num < 2:\n",
    "                if i is not None:\n",
    "                    last_node.left = node\n",
    "                    empty_node.append(node)\n",
    "            elif last_node.right is None and last_node.iter_num < 2:\n",
    "                if i is not None:\n",
    "                    last_node.right = node\n",
    "                    empty_node.append(node)\n",
    "                    \n",
    "            last_node.iter_num += 1\n",
    "                \n",
    "        return root\n",
    "\n",
    "    # 前序遍历\n",
    "    def preorder(self):\n",
    "\n",
    "        if self.data is not None:\n",
    "            print(self.data, end=' ')\n",
    "        if self.left is not None:\n",
    "            self.left.preorder()\n",
    "        if self.right is not None:\n",
    "            self.right.preorder()\n",
    "\n",
    "    # 中序遍历\n",
    "    def inorder(self):\n",
    "        if self.left is None and self.right is None:\n",
    "            return [self.data]\n",
    "        elif self.left is None:\n",
    "            return [] + [self.data] + self.right.inorder()\n",
    "        elif self.right is None:\n",
    "            return self.left.inorder() + [self.data] + []\n",
    "        else:\n",
    "            return self.left.inorder() + [self.data] + self.right.inorder()\n",
    "#         if self.left is not None:\n",
    "#             self.left.inorder()\n",
    "#         if self.data is not None:\n",
    "#             self.data\n",
    "#         if self.right is not None:\n",
    "#             self.right.inorder()\n",
    "\n",
    "    # 后序遍历\n",
    "    def postorder(self):\n",
    "        \n",
    "        if self.left is not None:\n",
    "            self.left.postorder()\n",
    "        if self.right is not None:\n",
    "            self.right.postorder()\n",
    "        if self.data is not None:\n",
    "            print(self.data, end=' ')\n",
    "\n",
    "    # 层序遍历\n",
    "    def levelorder(self):\n",
    "\n",
    "        # 返回某个节点的左孩子\n",
    "        def LChild_Of_Node(node):\n",
    "            return node.left if node.left is not None else None\n",
    "        # 返回某个节点的右孩子\n",
    "        def RChild_Of_Node(node):\n",
    "            return node.right if node.right is not None else None\n",
    "\n",
    "        # 层序遍历列表\n",
    "        level_order = []\n",
    "        # 是否添加根节点中的数据\n",
    "        if self.data is not None:\n",
    "            level_order.append([self])\n",
    "\n",
    "        # 二叉树的高度\n",
    "        height = self.height()\n",
    "        if height >= 1:\n",
    "            # 对第二层及其以后的层数进行操作, 在level_order中添加节点而不是数据\n",
    "            for _ in range(2, height + 1):\n",
    "                level = []  # 该层的节点\n",
    "                for node in level_order[-1]:\n",
    "                    # 如果左孩子非空，则添加左孩子\n",
    "                    if LChild_Of_Node(node):\n",
    "                        level.append(LChild_Of_Node(node))\n",
    "                    # 如果右孩子非空，则添加右孩子\n",
    "                    if RChild_Of_Node(node):\n",
    "                        level.append(RChild_Of_Node(node))\n",
    "                # 如果该层非空，则添加该层\n",
    "                if level:\n",
    "                    level_order.append(level)\n",
    "\n",
    "            # 取出每层中的数据\n",
    "            for i in range(0, height):  # 层数\n",
    "                for index in range(len(level_order[i])):\n",
    "                    level_order[i][index] = level_order[i][index].data\n",
    "\n",
    "        return level_order\n",
    "\n",
    "    # 二叉树的高度\n",
    "    def height(self):\n",
    "        # 空的树高度为0, 只有root节点的树高度为1\n",
    "        if self.data is None:\n",
    "            return 0\n",
    "        elif self.left is None and self.right is None:\n",
    "            return 1\n",
    "        elif self.left is None and self.right is not None:\n",
    "            return 1 + self.right.height()\n",
    "        elif self.left is not None and self.right is None:\n",
    "            return 1 + self.left.height()\n",
    "        else:\n",
    "            return 1 + max(self.left.height(), self.right.height())\n",
    "\n",
    "    # 二叉树的叶子节点\n",
    "    def leaves(self):\n",
    "\n",
    "        if self.data is None:\n",
    "            return None\n",
    "        elif self.left is None and self.right is None:\n",
    "            print(self.data, end=' ')\n",
    "        elif self.left is None and self.right is not None:\n",
    "            self.right.leaves()\n",
    "        elif self.right is None and self.left is not None:\n",
    "            self.left.leaves()\n",
    "        else:\n",
    "            self.left.leaves()\n",
    "            self.right.leaves()\n",
    "\n",
    "    # 利用Graphviz实现二叉树的可视化\n",
    "    def print_tree(self, save_path='./Binary_Tree.png', label=False):\n",
    "\n",
    "        # colors for labels of nodes\n",
    "        colors = ['skyblue', 'tomato', 'orange', 'purple', 'green', 'yellow', 'pink', 'red']\n",
    "\n",
    "        # 绘制以某个节点为根节点的二叉树\n",
    "        def print_node(node, node_tag):\n",
    "            # 节点颜色\n",
    "            color = sample(colors,1)[0]\n",
    "            if node.left is not None:\n",
    "                left_tag = str(uuid.uuid1())            # 左节点的数据\n",
    "                self.dot.node(left_tag, str(node.left.data), style='filled', color=color)    # 左节点\n",
    "                label_string = 'L' if label else ''    # 是否在连接线上写上标签，表明为左子树\n",
    "                self.dot.edge(node_tag, left_tag, label=label_string)   # 左节点与其父节点的连线\n",
    "                print_node(node.left, left_tag)\n",
    "\n",
    "            if node.right is not None:\n",
    "                right_tag = str(uuid.uuid1())\n",
    "                self.dot.node(right_tag, str(node.right.data), style='filled', color=color)\n",
    "                label_string = 'R' if label else ''  # 是否在连接线上写上标签，表明为右子树\n",
    "                self.dot.edge(node_tag, right_tag, label=label_string)\n",
    "                print_node(node.right, right_tag)\n",
    "\n",
    "        # 如果树非空\n",
    "        if self.data is not None:\n",
    "            root_tag = str(uuid.uuid1())                # 根节点标签\n",
    "            self.dot.node(root_tag, str(self.data), style='filled', color=sample(colors,1)[0])     # 创建根节点\n",
    "            print_node(self, root_tag)\n",
    "\n",
    "#         self.dot.render(save_path)                              # 保存文件为指定文件\n",
    "        return self.dot"
   ]
  },
  {
   "cell_type": "code",
   "execution_count": 176,
   "metadata": {},
   "outputs": [
    {
     "data": {
      "image/svg+xml": [
       "<?xml version=\"1.0\" encoding=\"UTF-8\" standalone=\"no\"?>\n",
       "<!DOCTYPE svg PUBLIC \"-//W3C//DTD SVG 1.1//EN\"\n",
       " \"http://www.w3.org/Graphics/SVG/1.1/DTD/svg11.dtd\">\n",
       "<!-- Generated by graphviz version 2.30.1 (20180420.1509)\n",
       " -->\n",
       "<!-- Title: %3 Pages: 1 -->\n",
       "<svg width=\"314pt\" height=\"260pt\"\n",
       " viewBox=\"0.00 0.00 314.00 260.00\" xmlns=\"http://www.w3.org/2000/svg\" xmlns:xlink=\"http://www.w3.org/1999/xlink\">\n",
       "<g id=\"graph0\" class=\"graph\" transform=\"scale(1 1) rotate(0) translate(4 256)\">\n",
       "<title>%3</title>\n",
       "<polygon fill=\"white\" stroke=\"white\" points=\"-4,5 -4,-256 311,-256 311,5 -4,5\"/>\n",
       "<!-- 8a00fd20&#45;6ea7&#45;11ea&#45;ad53&#45;001c42e11dbf -->\n",
       "<g id=\"node1\" class=\"node\"><title>8a00fd20&#45;6ea7&#45;11ea&#45;ad53&#45;001c42e11dbf</title>\n",
       "<ellipse fill=\"red\" stroke=\"red\" cx=\"171\" cy=\"-234\" rx=\"27\" ry=\"18\"/>\n",
       "<text text-anchor=\"middle\" x=\"171\" y=\"-230.3\" font-family=\"Times,serif\" font-size=\"14.00\">5</text>\n",
       "</g>\n",
       "<!-- 8a0102d4&#45;6ea7&#45;11ea&#45;ad53&#45;001c42e11dbf -->\n",
       "<g id=\"node2\" class=\"node\"><title>8a0102d4&#45;6ea7&#45;11ea&#45;ad53&#45;001c42e11dbf</title>\n",
       "<ellipse fill=\"green\" stroke=\"green\" cx=\"135\" cy=\"-162\" rx=\"27\" ry=\"18\"/>\n",
       "<text text-anchor=\"middle\" x=\"135\" y=\"-158.3\" font-family=\"Times,serif\" font-size=\"14.00\">1</text>\n",
       "</g>\n",
       "<!-- 8a00fd20&#45;6ea7&#45;11ea&#45;ad53&#45;001c42e11dbf&#45;&gt;8a0102d4&#45;6ea7&#45;11ea&#45;ad53&#45;001c42e11dbf -->\n",
       "<g id=\"edge1\" class=\"edge\"><title>8a00fd20&#45;6ea7&#45;11ea&#45;ad53&#45;001c42e11dbf&#45;&gt;8a0102d4&#45;6ea7&#45;11ea&#45;ad53&#45;001c42e11dbf</title>\n",
       "<path fill=\"none\" stroke=\"black\" d=\"M162.65,-216.765C158.288,-208.283 152.853,-197.714 147.959,-188.197\"/>\n",
       "<polygon fill=\"black\" stroke=\"black\" points=\"150.99,-186.439 143.304,-179.147 144.765,-189.641 150.99,-186.439\"/>\n",
       "</g>\n",
       "<!-- 8a013a06&#45;6ea7&#45;11ea&#45;ad53&#45;001c42e11dbf -->\n",
       "<g id=\"node7\" class=\"node\"><title>8a013a06&#45;6ea7&#45;11ea&#45;ad53&#45;001c42e11dbf</title>\n",
       "<ellipse fill=\"green\" stroke=\"green\" cx=\"207\" cy=\"-162\" rx=\"27\" ry=\"18\"/>\n",
       "<text text-anchor=\"middle\" x=\"207\" y=\"-158.3\" font-family=\"Times,serif\" font-size=\"14.00\">4</text>\n",
       "</g>\n",
       "<!-- 8a00fd20&#45;6ea7&#45;11ea&#45;ad53&#45;001c42e11dbf&#45;&gt;8a013a06&#45;6ea7&#45;11ea&#45;ad53&#45;001c42e11dbf -->\n",
       "<g id=\"edge6\" class=\"edge\"><title>8a00fd20&#45;6ea7&#45;11ea&#45;ad53&#45;001c42e11dbf&#45;&gt;8a013a06&#45;6ea7&#45;11ea&#45;ad53&#45;001c42e11dbf</title>\n",
       "<path fill=\"none\" stroke=\"black\" d=\"M179.35,-216.765C183.712,-208.283 189.147,-197.714 194.041,-188.197\"/>\n",
       "<polygon fill=\"black\" stroke=\"black\" points=\"197.235,-189.641 198.696,-179.147 191.01,-186.439 197.235,-189.641\"/>\n",
       "</g>\n",
       "<!-- 8a01077a&#45;6ea7&#45;11ea&#45;ad53&#45;001c42e11dbf -->\n",
       "<g id=\"node3\" class=\"node\"><title>8a01077a&#45;6ea7&#45;11ea&#45;ad53&#45;001c42e11dbf</title>\n",
       "<ellipse fill=\"tomato\" stroke=\"tomato\" cx=\"63\" cy=\"-90\" rx=\"27\" ry=\"18\"/>\n",
       "<text text-anchor=\"middle\" x=\"63\" y=\"-86.3\" font-family=\"Times,serif\" font-size=\"14.00\">4</text>\n",
       "</g>\n",
       "<!-- 8a0102d4&#45;6ea7&#45;11ea&#45;ad53&#45;001c42e11dbf&#45;&gt;8a01077a&#45;6ea7&#45;11ea&#45;ad53&#45;001c42e11dbf -->\n",
       "<g id=\"edge2\" class=\"edge\"><title>8a0102d4&#45;6ea7&#45;11ea&#45;ad53&#45;001c42e11dbf&#45;&gt;8a01077a&#45;6ea7&#45;11ea&#45;ad53&#45;001c42e11dbf</title>\n",
       "<path fill=\"none\" stroke=\"black\" d=\"M120.43,-146.834C110.25,-136.938 96.4761,-123.546 84.9694,-112.359\"/>\n",
       "<polygon fill=\"black\" stroke=\"black\" points=\"87.4055,-109.846 77.7957,-105.385 82.5259,-114.865 87.4055,-109.846\"/>\n",
       "</g>\n",
       "<!-- 8a013498&#45;6ea7&#45;11ea&#45;ad53&#45;001c42e11dbf -->\n",
       "<g id=\"node6\" class=\"node\"><title>8a013498&#45;6ea7&#45;11ea&#45;ad53&#45;001c42e11dbf</title>\n",
       "<ellipse fill=\"tomato\" stroke=\"tomato\" cx=\"135\" cy=\"-90\" rx=\"27\" ry=\"18\"/>\n",
       "<text text-anchor=\"middle\" x=\"135\" y=\"-86.3\" font-family=\"Times,serif\" font-size=\"14.00\">6</text>\n",
       "</g>\n",
       "<!-- 8a0102d4&#45;6ea7&#45;11ea&#45;ad53&#45;001c42e11dbf&#45;&gt;8a013498&#45;6ea7&#45;11ea&#45;ad53&#45;001c42e11dbf -->\n",
       "<g id=\"edge5\" class=\"edge\"><title>8a0102d4&#45;6ea7&#45;11ea&#45;ad53&#45;001c42e11dbf&#45;&gt;8a013498&#45;6ea7&#45;11ea&#45;ad53&#45;001c42e11dbf</title>\n",
       "<path fill=\"none\" stroke=\"black\" d=\"M135,-143.697C135,-135.983 135,-126.712 135,-118.112\"/>\n",
       "<polygon fill=\"black\" stroke=\"black\" points=\"138.5,-118.104 135,-108.104 131.5,-118.104 138.5,-118.104\"/>\n",
       "</g>\n",
       "<!-- 8a011242&#45;6ea7&#45;11ea&#45;ad53&#45;001c42e11dbf -->\n",
       "<g id=\"node4\" class=\"node\"><title>8a011242&#45;6ea7&#45;11ea&#45;ad53&#45;001c42e11dbf</title>\n",
       "<ellipse fill=\"purple\" stroke=\"purple\" cx=\"27\" cy=\"-18\" rx=\"27\" ry=\"18\"/>\n",
       "<text text-anchor=\"middle\" x=\"27\" y=\"-14.3\" font-family=\"Times,serif\" font-size=\"14.00\">7</text>\n",
       "</g>\n",
       "<!-- 8a01077a&#45;6ea7&#45;11ea&#45;ad53&#45;001c42e11dbf&#45;&gt;8a011242&#45;6ea7&#45;11ea&#45;ad53&#45;001c42e11dbf -->\n",
       "<g id=\"edge3\" class=\"edge\"><title>8a01077a&#45;6ea7&#45;11ea&#45;ad53&#45;001c42e11dbf&#45;&gt;8a011242&#45;6ea7&#45;11ea&#45;ad53&#45;001c42e11dbf</title>\n",
       "<path fill=\"none\" stroke=\"black\" d=\"M54.6504,-72.7646C50.2885,-64.2831 44.8531,-53.7144 39.9587,-44.1974\"/>\n",
       "<polygon fill=\"black\" stroke=\"black\" points=\"42.9904,-42.4395 35.3043,-35.1473 36.7654,-45.6409 42.9904,-42.4395\"/>\n",
       "</g>\n",
       "<!-- 8a011756&#45;6ea7&#45;11ea&#45;ad53&#45;001c42e11dbf -->\n",
       "<g id=\"node5\" class=\"node\"><title>8a011756&#45;6ea7&#45;11ea&#45;ad53&#45;001c42e11dbf</title>\n",
       "<ellipse fill=\"purple\" stroke=\"purple\" cx=\"99\" cy=\"-18\" rx=\"27\" ry=\"18\"/>\n",
       "<text text-anchor=\"middle\" x=\"99\" y=\"-14.3\" font-family=\"Times,serif\" font-size=\"14.00\">3</text>\n",
       "</g>\n",
       "<!-- 8a01077a&#45;6ea7&#45;11ea&#45;ad53&#45;001c42e11dbf&#45;&gt;8a011756&#45;6ea7&#45;11ea&#45;ad53&#45;001c42e11dbf -->\n",
       "<g id=\"edge4\" class=\"edge\"><title>8a01077a&#45;6ea7&#45;11ea&#45;ad53&#45;001c42e11dbf&#45;&gt;8a011756&#45;6ea7&#45;11ea&#45;ad53&#45;001c42e11dbf</title>\n",
       "<path fill=\"none\" stroke=\"black\" d=\"M71.3496,-72.7646C75.7115,-64.2831 81.1469,-53.7144 86.0413,-44.1974\"/>\n",
       "<polygon fill=\"black\" stroke=\"black\" points=\"89.2346,-45.6409 90.6957,-35.1473 83.0096,-42.4395 89.2346,-45.6409\"/>\n",
       "</g>\n",
       "<!-- 8a013dd0&#45;6ea7&#45;11ea&#45;ad53&#45;001c42e11dbf -->\n",
       "<g id=\"node8\" class=\"node\"><title>8a013dd0&#45;6ea7&#45;11ea&#45;ad53&#45;001c42e11dbf</title>\n",
       "<ellipse fill=\"orange\" stroke=\"orange\" cx=\"207\" cy=\"-90\" rx=\"27\" ry=\"18\"/>\n",
       "<text text-anchor=\"middle\" x=\"207\" y=\"-86.3\" font-family=\"Times,serif\" font-size=\"14.00\">3</text>\n",
       "</g>\n",
       "<!-- 8a013a06&#45;6ea7&#45;11ea&#45;ad53&#45;001c42e11dbf&#45;&gt;8a013dd0&#45;6ea7&#45;11ea&#45;ad53&#45;001c42e11dbf -->\n",
       "<g id=\"edge7\" class=\"edge\"><title>8a013a06&#45;6ea7&#45;11ea&#45;ad53&#45;001c42e11dbf&#45;&gt;8a013dd0&#45;6ea7&#45;11ea&#45;ad53&#45;001c42e11dbf</title>\n",
       "<path fill=\"none\" stroke=\"black\" d=\"M207,-143.697C207,-135.983 207,-126.712 207,-118.112\"/>\n",
       "<polygon fill=\"black\" stroke=\"black\" points=\"210.5,-118.104 207,-108.104 203.5,-118.104 210.5,-118.104\"/>\n",
       "</g>\n",
       "<!-- 8a0143e8&#45;6ea7&#45;11ea&#45;ad53&#45;001c42e11dbf -->\n",
       "<g id=\"node11\" class=\"node\"><title>8a0143e8&#45;6ea7&#45;11ea&#45;ad53&#45;001c42e11dbf</title>\n",
       "<ellipse fill=\"orange\" stroke=\"orange\" cx=\"279\" cy=\"-90\" rx=\"27\" ry=\"18\"/>\n",
       "<text text-anchor=\"middle\" x=\"279\" y=\"-86.3\" font-family=\"Times,serif\" font-size=\"14.00\">6</text>\n",
       "</g>\n",
       "<!-- 8a013a06&#45;6ea7&#45;11ea&#45;ad53&#45;001c42e11dbf&#45;&gt;8a0143e8&#45;6ea7&#45;11ea&#45;ad53&#45;001c42e11dbf -->\n",
       "<g id=\"edge10\" class=\"edge\"><title>8a013a06&#45;6ea7&#45;11ea&#45;ad53&#45;001c42e11dbf&#45;&gt;8a0143e8&#45;6ea7&#45;11ea&#45;ad53&#45;001c42e11dbf</title>\n",
       "<path fill=\"none\" stroke=\"black\" d=\"M221.57,-146.834C231.75,-136.938 245.524,-123.546 257.031,-112.359\"/>\n",
       "<polygon fill=\"black\" stroke=\"black\" points=\"259.474,-114.865 264.204,-105.385 254.595,-109.846 259.474,-114.865\"/>\n",
       "</g>\n",
       "<!-- 8a014000&#45;6ea7&#45;11ea&#45;ad53&#45;001c42e11dbf -->\n",
       "<g id=\"node9\" class=\"node\"><title>8a014000&#45;6ea7&#45;11ea&#45;ad53&#45;001c42e11dbf</title>\n",
       "<ellipse fill=\"green\" stroke=\"green\" cx=\"189\" cy=\"-18\" rx=\"27\" ry=\"18\"/>\n",
       "<text text-anchor=\"middle\" x=\"189\" y=\"-14.3\" font-family=\"Times,serif\" font-size=\"14.00\">12</text>\n",
       "</g>\n",
       "<!-- 8a013dd0&#45;6ea7&#45;11ea&#45;ad53&#45;001c42e11dbf&#45;&gt;8a014000&#45;6ea7&#45;11ea&#45;ad53&#45;001c42e11dbf -->\n",
       "<g id=\"edge8\" class=\"edge\"><title>8a013dd0&#45;6ea7&#45;11ea&#45;ad53&#45;001c42e11dbf&#45;&gt;8a014000&#45;6ea7&#45;11ea&#45;ad53&#45;001c42e11dbf</title>\n",
       "<path fill=\"none\" stroke=\"black\" d=\"M202.643,-72.055C200.609,-64.1446 198.139,-54.5398 195.863,-45.6879\"/>\n",
       "<polygon fill=\"black\" stroke=\"black\" points=\"199.197,-44.6023 193.317,-35.789 192.418,-46.3456 199.197,-44.6023\"/>\n",
       "</g>\n",
       "<!-- 8a0141fe&#45;6ea7&#45;11ea&#45;ad53&#45;001c42e11dbf -->\n",
       "<g id=\"node10\" class=\"node\"><title>8a0141fe&#45;6ea7&#45;11ea&#45;ad53&#45;001c42e11dbf</title>\n",
       "<ellipse fill=\"green\" stroke=\"green\" cx=\"261\" cy=\"-18\" rx=\"27\" ry=\"18\"/>\n",
       "<text text-anchor=\"middle\" x=\"261\" y=\"-14.3\" font-family=\"Times,serif\" font-size=\"14.00\">13</text>\n",
       "</g>\n",
       "<!-- 8a013dd0&#45;6ea7&#45;11ea&#45;ad53&#45;001c42e11dbf&#45;&gt;8a0141fe&#45;6ea7&#45;11ea&#45;ad53&#45;001c42e11dbf -->\n",
       "<g id=\"edge9\" class=\"edge\"><title>8a013dd0&#45;6ea7&#45;11ea&#45;ad53&#45;001c42e11dbf&#45;&gt;8a0141fe&#45;6ea7&#45;11ea&#45;ad53&#45;001c42e11dbf</title>\n",
       "<path fill=\"none\" stroke=\"black\" d=\"M218.984,-73.4647C225.976,-64.4021 234.936,-52.7865 242.785,-42.6119\"/>\n",
       "<polygon fill=\"black\" stroke=\"black\" points=\"245.712,-44.5475 249.049,-34.4918 240.17,-40.2719 245.712,-44.5475\"/>\n",
       "</g>\n",
       "</g>\n",
       "</svg>\n"
      ],
      "text/plain": [
       "<graphviz.dot.Digraph at 0x7faca9b748b0>"
      ]
     },
     "execution_count": 176,
     "metadata": {},
     "output_type": "execute_result"
    }
   ],
   "source": [
    "tree = [5,1,4,4,6,3,6,7,3,None,None,12,13]\n",
    "tree = BTree.from_list(tree)\n",
    "tree.print_tree()"
   ]
  },
  {
   "cell_type": "code",
   "execution_count": 180,
   "metadata": {},
   "outputs": [
    {
     "name": "stdout",
     "output_type": "stream",
     "text": [
      "[7, 4, 3, 1, 6, 5, 12, 3, 13, 4, 6]\n",
      "5 1 4 7 3 6 4 3 12 13 6 \n",
      "7 3 4 6 1 12 13 3 6 4 5 "
     ]
    }
   ],
   "source": [
    "print(tree.inorder())\n",
    "tree.preorder()\n",
    "print()\n",
    "tree.postorder()"
   ]
  },
  {
   "cell_type": "markdown",
   "metadata": {},
   "source": [
    "## [验证二叉搜索树](https://leetcode-cn.com/problems/validate-binary-search-tree/) "
   ]
  },
  {
   "cell_type": "code",
   "execution_count": 87,
   "metadata": {},
   "outputs": [
    {
     "data": {
      "text/plain": [
       "False"
      ]
     },
     "execution_count": 87,
     "metadata": {},
     "output_type": "execute_result"
    }
   ],
   "source": [
    "# 中序遍历看看是否为生序排列\n",
    "tree = [5,1,4,None,None,3,6]\n",
    "tree = BTree.from_list(tree)\n",
    "\n",
    "def btree_validate(tree):\n",
    "    inorder = tree.inorder()\n",
    "    return inorder == list(sorted(set(inorder)))\n",
    "btree_validate(tree)    "
   ]
  },
  {
   "cell_type": "code",
   "execution_count": 170,
   "metadata": {},
   "outputs": [
    {
     "data": {
      "image/svg+xml": [
       "<?xml version=\"1.0\" encoding=\"UTF-8\" standalone=\"no\"?>\n",
       "<!DOCTYPE svg PUBLIC \"-//W3C//DTD SVG 1.1//EN\"\n",
       " \"http://www.w3.org/Graphics/SVG/1.1/DTD/svg11.dtd\">\n",
       "<!-- Generated by graphviz version 2.30.1 (20180420.1509)\n",
       " -->\n",
       "<!-- Title: %3 Pages: 1 -->\n",
       "<svg width=\"170pt\" height=\"188pt\"\n",
       " viewBox=\"0.00 0.00 170.00 188.00\" xmlns=\"http://www.w3.org/2000/svg\" xmlns:xlink=\"http://www.w3.org/1999/xlink\">\n",
       "<g id=\"graph0\" class=\"graph\" transform=\"scale(1 1) rotate(0) translate(4 184)\">\n",
       "<title>%3</title>\n",
       "<polygon fill=\"white\" stroke=\"white\" points=\"-4,5 -4,-184 167,-184 167,5 -4,5\"/>\n",
       "<!-- aafca37c&#45;6ea1&#45;11ea&#45;ad53&#45;001c42e11dbf -->\n",
       "<g id=\"node1\" class=\"node\"><title>aafca37c&#45;6ea1&#45;11ea&#45;ad53&#45;001c42e11dbf</title>\n",
       "<ellipse fill=\"red\" stroke=\"red\" cx=\"99\" cy=\"-162\" rx=\"27\" ry=\"18\"/>\n",
       "<text text-anchor=\"middle\" x=\"99\" y=\"-158.3\" font-family=\"Times,serif\" font-size=\"14.00\">5</text>\n",
       "</g>\n",
       "<!-- aafca930&#45;6ea1&#45;11ea&#45;ad53&#45;001c42e11dbf -->\n",
       "<g id=\"node2\" class=\"node\"><title>aafca930&#45;6ea1&#45;11ea&#45;ad53&#45;001c42e11dbf</title>\n",
       "<ellipse fill=\"pink\" stroke=\"pink\" cx=\"63\" cy=\"-90\" rx=\"27\" ry=\"18\"/>\n",
       "<text text-anchor=\"middle\" x=\"63\" y=\"-86.3\" font-family=\"Times,serif\" font-size=\"14.00\">1</text>\n",
       "</g>\n",
       "<!-- aafca37c&#45;6ea1&#45;11ea&#45;ad53&#45;001c42e11dbf&#45;&gt;aafca930&#45;6ea1&#45;11ea&#45;ad53&#45;001c42e11dbf -->\n",
       "<g id=\"edge1\" class=\"edge\"><title>aafca37c&#45;6ea1&#45;11ea&#45;ad53&#45;001c42e11dbf&#45;&gt;aafca930&#45;6ea1&#45;11ea&#45;ad53&#45;001c42e11dbf</title>\n",
       "<path fill=\"none\" stroke=\"black\" d=\"M90.6504,-144.765C86.2885,-136.283 80.8531,-125.714 75.9587,-116.197\"/>\n",
       "<polygon fill=\"black\" stroke=\"black\" points=\"78.9904,-114.439 71.3043,-107.147 72.7654,-117.641 78.9904,-114.439\"/>\n",
       "</g>\n",
       "<!-- aafcb362&#45;6ea1&#45;11ea&#45;ad53&#45;001c42e11dbf -->\n",
       "<g id=\"node5\" class=\"node\"><title>aafcb362&#45;6ea1&#45;11ea&#45;ad53&#45;001c42e11dbf</title>\n",
       "<ellipse fill=\"pink\" stroke=\"pink\" cx=\"135\" cy=\"-90\" rx=\"27\" ry=\"18\"/>\n",
       "<text text-anchor=\"middle\" x=\"135\" y=\"-86.3\" font-family=\"Times,serif\" font-size=\"14.00\">7</text>\n",
       "</g>\n",
       "<!-- aafca37c&#45;6ea1&#45;11ea&#45;ad53&#45;001c42e11dbf&#45;&gt;aafcb362&#45;6ea1&#45;11ea&#45;ad53&#45;001c42e11dbf -->\n",
       "<g id=\"edge4\" class=\"edge\"><title>aafca37c&#45;6ea1&#45;11ea&#45;ad53&#45;001c42e11dbf&#45;&gt;aafcb362&#45;6ea1&#45;11ea&#45;ad53&#45;001c42e11dbf</title>\n",
       "<path fill=\"none\" stroke=\"black\" d=\"M107.35,-144.765C111.712,-136.283 117.147,-125.714 122.041,-116.197\"/>\n",
       "<polygon fill=\"black\" stroke=\"black\" points=\"125.235,-117.641 126.696,-107.147 119.01,-114.439 125.235,-117.641\"/>\n",
       "</g>\n",
       "<!-- aafcac78&#45;6ea1&#45;11ea&#45;ad53&#45;001c42e11dbf -->\n",
       "<g id=\"node3\" class=\"node\"><title>aafcac78&#45;6ea1&#45;11ea&#45;ad53&#45;001c42e11dbf</title>\n",
       "<ellipse fill=\"green\" stroke=\"green\" cx=\"27\" cy=\"-18\" rx=\"27\" ry=\"18\"/>\n",
       "<text text-anchor=\"middle\" x=\"27\" y=\"-14.3\" font-family=\"Times,serif\" font-size=\"14.00\">3</text>\n",
       "</g>\n",
       "<!-- aafca930&#45;6ea1&#45;11ea&#45;ad53&#45;001c42e11dbf&#45;&gt;aafcac78&#45;6ea1&#45;11ea&#45;ad53&#45;001c42e11dbf -->\n",
       "<g id=\"edge2\" class=\"edge\"><title>aafca930&#45;6ea1&#45;11ea&#45;ad53&#45;001c42e11dbf&#45;&gt;aafcac78&#45;6ea1&#45;11ea&#45;ad53&#45;001c42e11dbf</title>\n",
       "<path fill=\"none\" stroke=\"black\" d=\"M54.6504,-72.7646C50.2885,-64.2831 44.8531,-53.7144 39.9587,-44.1974\"/>\n",
       "<polygon fill=\"black\" stroke=\"black\" points=\"42.9904,-42.4395 35.3043,-35.1473 36.7654,-45.6409 42.9904,-42.4395\"/>\n",
       "</g>\n",
       "<!-- aafcb060&#45;6ea1&#45;11ea&#45;ad53&#45;001c42e11dbf -->\n",
       "<g id=\"node4\" class=\"node\"><title>aafcb060&#45;6ea1&#45;11ea&#45;ad53&#45;001c42e11dbf</title>\n",
       "<ellipse fill=\"green\" stroke=\"green\" cx=\"99\" cy=\"-18\" rx=\"27\" ry=\"18\"/>\n",
       "<text text-anchor=\"middle\" x=\"99\" y=\"-14.3\" font-family=\"Times,serif\" font-size=\"14.00\">8</text>\n",
       "</g>\n",
       "<!-- aafca930&#45;6ea1&#45;11ea&#45;ad53&#45;001c42e11dbf&#45;&gt;aafcb060&#45;6ea1&#45;11ea&#45;ad53&#45;001c42e11dbf -->\n",
       "<g id=\"edge3\" class=\"edge\"><title>aafca930&#45;6ea1&#45;11ea&#45;ad53&#45;001c42e11dbf&#45;&gt;aafcb060&#45;6ea1&#45;11ea&#45;ad53&#45;001c42e11dbf</title>\n",
       "<path fill=\"none\" stroke=\"black\" d=\"M71.3496,-72.7646C75.7115,-64.2831 81.1469,-53.7144 86.0413,-44.1974\"/>\n",
       "<polygon fill=\"black\" stroke=\"black\" points=\"89.2346,-45.6409 90.6957,-35.1473 83.0096,-42.4395 89.2346,-45.6409\"/>\n",
       "</g>\n",
       "</g>\n",
       "</svg>\n"
      ],
      "text/plain": [
       "<graphviz.dot.Digraph at 0x7faca9b80460>"
      ]
     },
     "execution_count": 170,
     "metadata": {},
     "output_type": "execute_result"
    }
   ],
   "source": [
    "tree = [5,1,7,3,8]\n",
    "tree = BTree.from_list(tree)\n",
    "tree.print_tree()"
   ]
  },
  {
   "cell_type": "code",
   "execution_count": 101,
   "metadata": {},
   "outputs": [
    {
     "data": {
      "text/plain": [
       "False"
      ]
     },
     "execution_count": 101,
     "metadata": {},
     "output_type": "execute_result"
    }
   ],
   "source": [
    "def btree_validate(root, vmin=None, vmax=None):\n",
    "    # 说明到最后了，要返回了\n",
    "    if root is None: return True\n",
    "    if vmin is not None and root.data <= vmin: return False\n",
    "    if vmax is not None and root.data >= vmax: return False\n",
    "    return btree_validate(root.left, vmin, root.data) and btree_validate(root.right, root.data, vmax)\n",
    "\n",
    "btree_validate(tree)"
   ]
  },
  {
   "cell_type": "markdown",
   "metadata": {},
   "source": [
    "## [二叉树最近公共祖先](https://leetcode-cn.com/problems/lowest-common-ancestor-of-a-binary-tree/)"
   ]
  },
  {
   "cell_type": "code",
   "execution_count": 172,
   "metadata": {},
   "outputs": [
    {
     "data": {
      "image/svg+xml": [
       "<?xml version=\"1.0\" encoding=\"UTF-8\" standalone=\"no\"?>\n",
       "<!DOCTYPE svg PUBLIC \"-//W3C//DTD SVG 1.1//EN\"\n",
       " \"http://www.w3.org/Graphics/SVG/1.1/DTD/svg11.dtd\">\n",
       "<!-- Generated by graphviz version 2.30.1 (20180420.1509)\n",
       " -->\n",
       "<!-- Title: %3 Pages: 1 -->\n",
       "<svg width=\"278pt\" height=\"260pt\"\n",
       " viewBox=\"0.00 0.00 278.00 260.00\" xmlns=\"http://www.w3.org/2000/svg\" xmlns:xlink=\"http://www.w3.org/1999/xlink\">\n",
       "<g id=\"graph0\" class=\"graph\" transform=\"scale(1 1) rotate(0) translate(4 256)\">\n",
       "<title>%3</title>\n",
       "<polygon fill=\"white\" stroke=\"white\" points=\"-4,5 -4,-256 275,-256 275,5 -4,5\"/>\n",
       "<!-- de0e7282&#45;6ea5&#45;11ea&#45;ad53&#45;001c42e11dbf -->\n",
       "<g id=\"node1\" class=\"node\"><title>de0e7282&#45;6ea5&#45;11ea&#45;ad53&#45;001c42e11dbf</title>\n",
       "<ellipse fill=\"red\" stroke=\"red\" cx=\"135\" cy=\"-234\" rx=\"27\" ry=\"18\"/>\n",
       "<text text-anchor=\"middle\" x=\"135\" y=\"-230.3\" font-family=\"Times,serif\" font-size=\"14.00\">3</text>\n",
       "</g>\n",
       "<!-- de0e77a0&#45;6ea5&#45;11ea&#45;ad53&#45;001c42e11dbf -->\n",
       "<g id=\"node2\" class=\"node\"><title>de0e77a0&#45;6ea5&#45;11ea&#45;ad53&#45;001c42e11dbf</title>\n",
       "<ellipse fill=\"tomato\" stroke=\"tomato\" cx=\"99\" cy=\"-162\" rx=\"27\" ry=\"18\"/>\n",
       "<text text-anchor=\"middle\" x=\"99\" y=\"-158.3\" font-family=\"Times,serif\" font-size=\"14.00\">5</text>\n",
       "</g>\n",
       "<!-- de0e7282&#45;6ea5&#45;11ea&#45;ad53&#45;001c42e11dbf&#45;&gt;de0e77a0&#45;6ea5&#45;11ea&#45;ad53&#45;001c42e11dbf -->\n",
       "<g id=\"edge1\" class=\"edge\"><title>de0e7282&#45;6ea5&#45;11ea&#45;ad53&#45;001c42e11dbf&#45;&gt;de0e77a0&#45;6ea5&#45;11ea&#45;ad53&#45;001c42e11dbf</title>\n",
       "<path fill=\"none\" stroke=\"black\" d=\"M126.65,-216.765C122.288,-208.283 116.853,-197.714 111.959,-188.197\"/>\n",
       "<polygon fill=\"black\" stroke=\"black\" points=\"114.99,-186.439 107.304,-179.147 108.765,-189.641 114.99,-186.439\"/>\n",
       "</g>\n",
       "<!-- de0e9230&#45;6ea5&#45;11ea&#45;ad53&#45;001c42e11dbf -->\n",
       "<g id=\"node7\" class=\"node\"><title>de0e9230&#45;6ea5&#45;11ea&#45;ad53&#45;001c42e11dbf</title>\n",
       "<ellipse fill=\"tomato\" stroke=\"tomato\" cx=\"171\" cy=\"-162\" rx=\"27\" ry=\"18\"/>\n",
       "<text text-anchor=\"middle\" x=\"171\" y=\"-158.3\" font-family=\"Times,serif\" font-size=\"14.00\">1</text>\n",
       "</g>\n",
       "<!-- de0e7282&#45;6ea5&#45;11ea&#45;ad53&#45;001c42e11dbf&#45;&gt;de0e9230&#45;6ea5&#45;11ea&#45;ad53&#45;001c42e11dbf -->\n",
       "<g id=\"edge6\" class=\"edge\"><title>de0e7282&#45;6ea5&#45;11ea&#45;ad53&#45;001c42e11dbf&#45;&gt;de0e9230&#45;6ea5&#45;11ea&#45;ad53&#45;001c42e11dbf</title>\n",
       "<path fill=\"none\" stroke=\"black\" d=\"M143.35,-216.765C147.712,-208.283 153.147,-197.714 158.041,-188.197\"/>\n",
       "<polygon fill=\"black\" stroke=\"black\" points=\"161.235,-189.641 162.696,-179.147 155.01,-186.439 161.235,-189.641\"/>\n",
       "</g>\n",
       "<!-- de0e7aca&#45;6ea5&#45;11ea&#45;ad53&#45;001c42e11dbf -->\n",
       "<g id=\"node3\" class=\"node\"><title>de0e7aca&#45;6ea5&#45;11ea&#45;ad53&#45;001c42e11dbf</title>\n",
       "<ellipse fill=\"green\" stroke=\"green\" cx=\"27\" cy=\"-90\" rx=\"27\" ry=\"18\"/>\n",
       "<text text-anchor=\"middle\" x=\"27\" y=\"-86.3\" font-family=\"Times,serif\" font-size=\"14.00\">6</text>\n",
       "</g>\n",
       "<!-- de0e77a0&#45;6ea5&#45;11ea&#45;ad53&#45;001c42e11dbf&#45;&gt;de0e7aca&#45;6ea5&#45;11ea&#45;ad53&#45;001c42e11dbf -->\n",
       "<g id=\"edge2\" class=\"edge\"><title>de0e77a0&#45;6ea5&#45;11ea&#45;ad53&#45;001c42e11dbf&#45;&gt;de0e7aca&#45;6ea5&#45;11ea&#45;ad53&#45;001c42e11dbf</title>\n",
       "<path fill=\"none\" stroke=\"black\" d=\"M84.4297,-146.834C74.2501,-136.938 60.4761,-123.546 48.9694,-112.359\"/>\n",
       "<polygon fill=\"black\" stroke=\"black\" points=\"51.4055,-109.846 41.7957,-105.385 46.5259,-114.865 51.4055,-109.846\"/>\n",
       "</g>\n",
       "<!-- de0e7d68&#45;6ea5&#45;11ea&#45;ad53&#45;001c42e11dbf -->\n",
       "<g id=\"node4\" class=\"node\"><title>de0e7d68&#45;6ea5&#45;11ea&#45;ad53&#45;001c42e11dbf</title>\n",
       "<ellipse fill=\"green\" stroke=\"green\" cx=\"99\" cy=\"-90\" rx=\"27\" ry=\"18\"/>\n",
       "<text text-anchor=\"middle\" x=\"99\" y=\"-86.3\" font-family=\"Times,serif\" font-size=\"14.00\">2</text>\n",
       "</g>\n",
       "<!-- de0e77a0&#45;6ea5&#45;11ea&#45;ad53&#45;001c42e11dbf&#45;&gt;de0e7d68&#45;6ea5&#45;11ea&#45;ad53&#45;001c42e11dbf -->\n",
       "<g id=\"edge3\" class=\"edge\"><title>de0e77a0&#45;6ea5&#45;11ea&#45;ad53&#45;001c42e11dbf&#45;&gt;de0e7d68&#45;6ea5&#45;11ea&#45;ad53&#45;001c42e11dbf</title>\n",
       "<path fill=\"none\" stroke=\"black\" d=\"M99,-143.697C99,-135.983 99,-126.712 99,-118.112\"/>\n",
       "<polygon fill=\"black\" stroke=\"black\" points=\"102.5,-118.104 99,-108.104 95.5001,-118.104 102.5,-118.104\"/>\n",
       "</g>\n",
       "<!-- de0e7fd4&#45;6ea5&#45;11ea&#45;ad53&#45;001c42e11dbf -->\n",
       "<g id=\"node5\" class=\"node\"><title>de0e7fd4&#45;6ea5&#45;11ea&#45;ad53&#45;001c42e11dbf</title>\n",
       "<ellipse fill=\"yellow\" stroke=\"yellow\" cx=\"63\" cy=\"-18\" rx=\"27\" ry=\"18\"/>\n",
       "<text text-anchor=\"middle\" x=\"63\" y=\"-14.3\" font-family=\"Times,serif\" font-size=\"14.00\">7</text>\n",
       "</g>\n",
       "<!-- de0e7d68&#45;6ea5&#45;11ea&#45;ad53&#45;001c42e11dbf&#45;&gt;de0e7fd4&#45;6ea5&#45;11ea&#45;ad53&#45;001c42e11dbf -->\n",
       "<g id=\"edge4\" class=\"edge\"><title>de0e7d68&#45;6ea5&#45;11ea&#45;ad53&#45;001c42e11dbf&#45;&gt;de0e7fd4&#45;6ea5&#45;11ea&#45;ad53&#45;001c42e11dbf</title>\n",
       "<path fill=\"none\" stroke=\"black\" d=\"M90.6504,-72.7646C86.2885,-64.2831 80.8531,-53.7144 75.9587,-44.1974\"/>\n",
       "<polygon fill=\"black\" stroke=\"black\" points=\"78.9904,-42.4395 71.3043,-35.1473 72.7654,-45.6409 78.9904,-42.4395\"/>\n",
       "</g>\n",
       "<!-- de0e81dc&#45;6ea5&#45;11ea&#45;ad53&#45;001c42e11dbf -->\n",
       "<g id=\"node6\" class=\"node\"><title>de0e81dc&#45;6ea5&#45;11ea&#45;ad53&#45;001c42e11dbf</title>\n",
       "<ellipse fill=\"yellow\" stroke=\"yellow\" cx=\"135\" cy=\"-18\" rx=\"27\" ry=\"18\"/>\n",
       "<text text-anchor=\"middle\" x=\"135\" y=\"-14.3\" font-family=\"Times,serif\" font-size=\"14.00\">4</text>\n",
       "</g>\n",
       "<!-- de0e7d68&#45;6ea5&#45;11ea&#45;ad53&#45;001c42e11dbf&#45;&gt;de0e81dc&#45;6ea5&#45;11ea&#45;ad53&#45;001c42e11dbf -->\n",
       "<g id=\"edge5\" class=\"edge\"><title>de0e7d68&#45;6ea5&#45;11ea&#45;ad53&#45;001c42e11dbf&#45;&gt;de0e81dc&#45;6ea5&#45;11ea&#45;ad53&#45;001c42e11dbf</title>\n",
       "<path fill=\"none\" stroke=\"black\" d=\"M107.35,-72.7646C111.712,-64.2831 117.147,-53.7144 122.041,-44.1974\"/>\n",
       "<polygon fill=\"black\" stroke=\"black\" points=\"125.235,-45.6409 126.696,-35.1473 119.01,-42.4395 125.235,-45.6409\"/>\n",
       "</g>\n",
       "<!-- de0e9500&#45;6ea5&#45;11ea&#45;ad53&#45;001c42e11dbf -->\n",
       "<g id=\"node8\" class=\"node\"><title>de0e9500&#45;6ea5&#45;11ea&#45;ad53&#45;001c42e11dbf</title>\n",
       "<ellipse fill=\"skyblue\" stroke=\"skyblue\" cx=\"171\" cy=\"-90\" rx=\"27\" ry=\"18\"/>\n",
       "<text text-anchor=\"middle\" x=\"171\" y=\"-86.3\" font-family=\"Times,serif\" font-size=\"14.00\">0</text>\n",
       "</g>\n",
       "<!-- de0e9230&#45;6ea5&#45;11ea&#45;ad53&#45;001c42e11dbf&#45;&gt;de0e9500&#45;6ea5&#45;11ea&#45;ad53&#45;001c42e11dbf -->\n",
       "<g id=\"edge7\" class=\"edge\"><title>de0e9230&#45;6ea5&#45;11ea&#45;ad53&#45;001c42e11dbf&#45;&gt;de0e9500&#45;6ea5&#45;11ea&#45;ad53&#45;001c42e11dbf</title>\n",
       "<path fill=\"none\" stroke=\"black\" d=\"M171,-143.697C171,-135.983 171,-126.712 171,-118.112\"/>\n",
       "<polygon fill=\"black\" stroke=\"black\" points=\"174.5,-118.104 171,-108.104 167.5,-118.104 174.5,-118.104\"/>\n",
       "</g>\n",
       "<!-- de0e978a&#45;6ea5&#45;11ea&#45;ad53&#45;001c42e11dbf -->\n",
       "<g id=\"node9\" class=\"node\"><title>de0e978a&#45;6ea5&#45;11ea&#45;ad53&#45;001c42e11dbf</title>\n",
       "<ellipse fill=\"skyblue\" stroke=\"skyblue\" cx=\"243\" cy=\"-90\" rx=\"27\" ry=\"18\"/>\n",
       "<text text-anchor=\"middle\" x=\"243\" y=\"-86.3\" font-family=\"Times,serif\" font-size=\"14.00\">8</text>\n",
       "</g>\n",
       "<!-- de0e9230&#45;6ea5&#45;11ea&#45;ad53&#45;001c42e11dbf&#45;&gt;de0e978a&#45;6ea5&#45;11ea&#45;ad53&#45;001c42e11dbf -->\n",
       "<g id=\"edge8\" class=\"edge\"><title>de0e9230&#45;6ea5&#45;11ea&#45;ad53&#45;001c42e11dbf&#45;&gt;de0e978a&#45;6ea5&#45;11ea&#45;ad53&#45;001c42e11dbf</title>\n",
       "<path fill=\"none\" stroke=\"black\" d=\"M185.57,-146.834C195.75,-136.938 209.524,-123.546 221.031,-112.359\"/>\n",
       "<polygon fill=\"black\" stroke=\"black\" points=\"223.474,-114.865 228.204,-105.385 218.595,-109.846 223.474,-114.865\"/>\n",
       "</g>\n",
       "</g>\n",
       "</svg>\n"
      ],
      "text/plain": [
       "<graphviz.dot.Digraph at 0x7facaa057310>"
      ]
     },
     "execution_count": 172,
     "metadata": {},
     "output_type": "execute_result"
    }
   ],
   "source": [
    "tree = [3,5,1,6,2,0,8,None,None,7,4]\n",
    "tree = BTree.from_list(tree)\n",
    "tree.print_tree()"
   ]
  },
  {
   "cell_type": "code",
   "execution_count": 169,
   "metadata": {},
   "outputs": [
    {
     "name": "stdout",
     "output_type": "stream",
     "text": [
      "3\n",
      "5\n"
     ]
    }
   ],
   "source": [
    "def lowest_common_ancestor(root, p, q):\n",
    "    # 判断root节点是否为p或q,如果是的话，就返回root\n",
    "    if root is None or root.data == p or root.data == q: return root\n",
    "    left = lowest_common_ancestor(root.left, p, q) \n",
    "    right = lowest_common_ancestor(root.right, p, q)\n",
    "    return right if left is None else (left if right is None else root)\n",
    "\n",
    "p, q= 5, 1\n",
    "print(lowest_common_ancestor(tree, p, q).data)\n",
    "p , q = 6, 2\n",
    "print(lowest_common_ancestor(tree, p, q).data)"
   ]
  },
  {
   "cell_type": "code",
   "execution_count": 175,
   "metadata": {},
   "outputs": [
    {
     "name": "stdout",
     "output_type": "stream",
     "text": [
      "3 5 6 2 7 4 1 0 8 \n",
      "6 7 4 2 5 0 8 1 3 "
     ]
    }
   ],
   "source": [
    "tree.preorder()\n",
    "print()\n",
    "tree.postorder()"
   ]
  },
  {
   "cell_type": "markdown",
   "metadata": {},
   "source": [
    "## 广度优先算法"
   ]
  },
  {
   "cell_type": "code",
   "execution_count": 184,
   "metadata": {},
   "outputs": [],
   "source": [
    "def bfs(root):\n",
    "    visited = set()\n",
    "    queue = []\n",
    "    queue.append(root)\n",
    "    ret = []\n",
    "    \n",
    "    while queue:\n",
    "        node = queue.pop(0)\n",
    "        visited.add(node)\n",
    "        ret.append(node.data)\n",
    "        \n",
    "        if node.left and node.left not in visited:\n",
    "            queue.append(node.left)\n",
    "        if node.right and node.right not in visited:\n",
    "            queue.append(node.right)\n",
    "    \n",
    "    return ret"
   ]
  },
  {
   "cell_type": "code",
   "execution_count": 185,
   "metadata": {},
   "outputs": [
    {
     "data": {
      "text/plain": [
       "[5, 1, 7, 3, 8]"
      ]
     },
     "execution_count": 185,
     "metadata": {},
     "output_type": "execute_result"
    }
   ],
   "source": [
    "tree = [5,1,7,3,8]\n",
    "tree = BTree.from_list(tree)\n",
    "bfs(tree)"
   ]
  },
  {
   "cell_type": "markdown",
   "metadata": {},
   "source": [
    "## 深度优先算法"
   ]
  },
  {
   "cell_type": "code",
   "execution_count": 187,
   "metadata": {},
   "outputs": [],
   "source": [
    "visited = set()\n",
    "def dfs(root):\n",
    "    print(root.data)\n",
    "    visited.add(root)\n",
    "    \n",
    "    for node in [root.left, root.right]:\n",
    "        if node and node not in visited:\n",
    "            dfs(node)"
   ]
  },
  {
   "cell_type": "code",
   "execution_count": 189,
   "metadata": {},
   "outputs": [
    {
     "name": "stdout",
     "output_type": "stream",
     "text": [
      "5\n",
      "1\n",
      "3\n",
      "8\n",
      "7\n"
     ]
    }
   ],
   "source": [
    "tree = [5,1,7,3,8]\n",
    "tree = BTree.from_list(tree)\n",
    "dfs(tree)"
   ]
  },
  {
   "cell_type": "markdown",
   "metadata": {},
   "source": [
    "## [二叉树的层次遍历](https://leetcode-cn.com/problems/binary-tree-level-order-traversal/)"
   ]
  },
  {
   "cell_type": "code",
   "execution_count": 196,
   "metadata": {},
   "outputs": [],
   "source": [
    "def bfs_by_layer(root):\n",
    "    if not root: return []\n",
    "    \n",
    "    visited = set()\n",
    "    queue = []\n",
    "    queue.append(root)\n",
    "    ret = []\n",
    "    \n",
    "    while queue:\n",
    "        level_size = len(queue)\n",
    "        level_data = []\n",
    "        \n",
    "        for _ in range(level_size):\n",
    "            node = queue.pop(0)\n",
    "            visited.add(node)\n",
    "            level_data.append(node.data)\n",
    "            if node.left and node.left not in visited:\n",
    "                queue.append(node.left)\n",
    "            if node.right and node.right not in visited:\n",
    "                queue.append(node.right)\n",
    "        ret.append(level_data)\n",
    "    \n",
    "    return ret"
   ]
  },
  {
   "cell_type": "code",
   "execution_count": 197,
   "metadata": {},
   "outputs": [
    {
     "data": {
      "text/plain": [
       "[[5], [1, 7], [3, 8]]"
      ]
     },
     "execution_count": 197,
     "metadata": {},
     "output_type": "execute_result"
    }
   ],
   "source": [
    "tree = [5,1,7,3,8]\n",
    "tree = BTree.from_list(tree)\n",
    "bfs_by_layer(tree)"
   ]
  },
  {
   "cell_type": "markdown",
   "metadata": {},
   "source": [
    "## [寻找二叉树最小深度](https://leetcode-cn.com/problems/minimum-depth-of-binary-tree/)/[寻找二叉树最大深度](https://leetcode-cn.com/problems/maximum-depth-of-binary-tree/)"
   ]
  },
  {
   "cell_type": "code",
   "execution_count": 199,
   "metadata": {},
   "outputs": [],
   "source": [
    "def min_depth(root):\n",
    "    if not root: return 0\n",
    "    left = min_depth(root.left)\n",
    "    right = min_depth(root.right)\n",
    "    \n",
    "    # 先到底就返回\n",
    "    if left == 0 or right == 0:\n",
    "        return left + right + 1\n",
    "    else:\n",
    "        # 返回深度最小的子树\n",
    "        return min(left, right) + 1"
   ]
  },
  {
   "cell_type": "code",
   "execution_count": 209,
   "metadata": {},
   "outputs": [
    {
     "data": {
      "text/plain": [
       "3"
      ]
     },
     "execution_count": 209,
     "metadata": {},
     "output_type": "execute_result"
    }
   ],
   "source": [
    "tree = [5,1,7,3,8, 7, 8, 19, 3]\n",
    "tree = BTree.from_list(tree)\n",
    "min_depth(tree)"
   ]
  },
  {
   "cell_type": "code",
   "execution_count": 207,
   "metadata": {},
   "outputs": [],
   "source": [
    "def max_depth(root):\n",
    "    if not root: return 0\n",
    "    left = max_depth(root.left)\n",
    "    right = max_depth(root.right)\n",
    "    return max(left, right) + 1"
   ]
  },
  {
   "cell_type": "code",
   "execution_count": 222,
   "metadata": {},
   "outputs": [
    {
     "data": {
      "text/plain": [
       "5"
      ]
     },
     "execution_count": 222,
     "metadata": {},
     "output_type": "execute_result"
    }
   ],
   "source": [
    "tree = [5,1,7,3,8, 7, 8, 19, 3,1,1,1,1,1,1,1,1,]\n",
    "tree = BTree.from_list(tree)\n",
    "max_depth(tree)"
   ]
  }
 ],
 "metadata": {
  "kernelspec": {
   "display_name": "Python 3",
   "language": "python",
   "name": "python3"
  },
  "language_info": {
   "codemirror_mode": {
    "name": "ipython",
    "version": 3
   },
   "file_extension": ".py",
   "mimetype": "text/x-python",
   "name": "python",
   "nbconvert_exporter": "python",
   "pygments_lexer": "ipython3",
   "version": "3.8.1"
  }
 },
 "nbformat": 4,
 "nbformat_minor": 4
}
