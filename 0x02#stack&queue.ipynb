{
 "cells": [
  {
   "cell_type": "markdown",
   "metadata": {},
   "source": [
    "# 栈和队列"
   ]
  },
  {
   "cell_type": "code",
   "execution_count": 170,
   "metadata": {},
   "outputs": [],
   "source": [
    "class Stack:\n",
    "    \n",
    "    def __init__(self):\n",
    "        self._array = []\n",
    "    \n",
    "    def push(self, x):\n",
    "        self._array.append(x)\n",
    "    \n",
    "    def pop(self):\n",
    "        return self._array.pop()\n",
    "\n",
    "    def peak(self):\n",
    "        if self.size:\n",
    "            return self._array[-1]\n",
    "        else:\n",
    "            return ''\n",
    "    \n",
    "    def equal(self, s):\n",
    "        if self._array == s._array:\n",
    "            return True\n",
    "        else:\n",
    "            return False\n",
    "        \n",
    "    def empty(self):\n",
    "        return not self.size\n",
    "        \n",
    "    @property\n",
    "    def size(self):\n",
    "        return len(self._array)\n",
    "    \n",
    "class Queue:\n",
    "    \n",
    "    def __init__(self):\n",
    "        self._array = []\n",
    "        \n",
    "        def push(self, x):\n",
    "            self._array.append(x)\n",
    "            \n",
    "        def pop(self):\n",
    "            return self._array[0]\n",
    "        \n",
    "        @propery\n",
    "        def size(self):\n",
    "            return len(self._array)"
   ]
  },
  {
   "cell_type": "markdown",
   "metadata": {},
   "source": [
    "## 比较含两个的可操作的字符串"
   ]
  },
  {
   "cell_type": "code",
   "execution_count": 154,
   "metadata": {},
   "outputs": [
    {
     "name": "stdout",
     "output_type": "stream",
     "text": [
      "['b', 's', 'f', '#', '#']\n",
      "['v', '#', 'r', 's', 'h', 'g', 'y']\n",
      "False\n"
     ]
    }
   ],
   "source": [
    "import random \n",
    "import string\n",
    "\n",
    "S = random.sample(string.ascii_lowercase + '#'*10, random.randint(0, 10))\n",
    "T = random.sample(string.ascii_lowercase + '#'*10, random.randint(0, 10))\n",
    "print(S)\n",
    "print(T)\n",
    "\n",
    "\n",
    "def is_same(S, T):\n",
    "    s_stack = Stack()\n",
    "    t_stack = Stack()\n",
    "    \n",
    "    for s in S:\n",
    "        if s == '#':\n",
    "            t_stack.size and s_stack.pop()\n",
    "        else:\n",
    "            s_stack.push(s)\n",
    "        \n",
    "    for t in T:\n",
    "        if t == '#':\n",
    "            t_stack.size and t_stack.pop()\n",
    "        else:\n",
    "            t_stack.push(t)\n",
    "\n",
    "    if s_stack.equal(t_stack):\n",
    "        return True\n",
    "    else:\n",
    "        return False\n",
    "    \n",
    "print(is_same(S, T))"
   ]
  },
  {
   "cell_type": "markdown",
   "metadata": {},
   "source": [
    "# 有效的括号"
   ]
  },
  {
   "cell_type": "code",
   "execution_count": 214,
   "metadata": {},
   "outputs": [
    {
     "name": "stdout",
     "output_type": "stream",
     "text": [
      "['(', ']', '[', '{', ')', '}', ')', '{']\n",
      "False\n"
     ]
    }
   ],
   "source": [
    "import random \n",
    "\n",
    "input_str = random.sample(['(', ')', '[', ']', '{', '}']*5, random.randint(1, 10))\n",
    "print(input_str)\n",
    "\n",
    "def is_pair(p, q):\n",
    "    if p == '(' and q == ')':\n",
    "        return True\n",
    "    elif p == '[' and q == ']':\n",
    "        return True\n",
    "    elif p == '{' and q == '}':\n",
    "        return True\n",
    "    else:\n",
    "        return False\n",
    "\n",
    "def is_valid(ss):\n",
    "    stack = Stack()\n",
    "\n",
    "    for s in ss:\n",
    "        if is_pair(stack.peak(), s):\n",
    "            stack.pop()\n",
    "        else:\n",
    "            stack.push(s)\n",
    "    \n",
    "    if stack.empty():\n",
    "        return True\n",
    "    else:\n",
    "        return False\n",
    "print(is_valid(input_str))    \n",
    "    \n",
    "        \n",
    "    "
   ]
  },
  {
   "cell_type": "markdown",
   "metadata": {},
   "source": []
  }
 ],
 "metadata": {
  "kernelspec": {
   "display_name": "Python 3",
   "language": "python",
   "name": "python3"
  },
  "language_info": {
   "codemirror_mode": {
    "name": "ipython",
    "version": 3
   },
   "file_extension": ".py",
   "mimetype": "text/x-python",
   "name": "python",
   "nbconvert_exporter": "python",
   "pygments_lexer": "ipython3",
   "version": "3.8.1"
  }
 },
 "nbformat": 4,
 "nbformat_minor": 4
}
