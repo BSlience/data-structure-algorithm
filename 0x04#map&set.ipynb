{
 "cells": [
  {
   "cell_type": "markdown",
   "metadata": {},
   "source": [
    "# 映射(map)和集合(set)"
   ]
  },
  {
   "cell_type": "markdown",
   "metadata": {},
   "source": [
    "## [有效字母异位词](https://leetcode-cn.com/problems/valid-anagram/)"
   ]
  },
  {
   "cell_type": "code",
   "execution_count": 2,
   "metadata": {},
   "outputs": [],
   "source": [
    "# 第一种做法，O(NlogN)复杂度\n",
    "def is_anagram(s, t):\n",
    "    return sorted(s) == sorted(t)"
   ]
  },
  {
   "cell_type": "code",
   "execution_count": 7,
   "metadata": {},
   "outputs": [],
   "source": [
    "# 第二种解法,O(N)复杂度\n",
    "def is_anagram1(s, t):\n",
    "    dic1, dic2 = {}, {}\n",
    "    \n",
    "    # 如果长度不符，直接返回\n",
    "    if len(s) != len(t): return False\n",
    "    \n",
    "    # 在hashmap里进行计数\n",
    "    for item in s:\n",
    "        dic1[item] = dic1.get(item, 0)\n",
    "    \n",
    "    for item in t:\n",
    "        dic2[item] = dic2.get(item, 0)\n",
    "        \n",
    "    return dic1 == dic2"
   ]
  },
  {
   "cell_type": "code",
   "execution_count": 9,
   "metadata": {},
   "outputs": [
    {
     "name": "stdout",
     "output_type": "stream",
     "text": [
      "False\n",
      "False\n"
     ]
    }
   ],
   "source": [
    "s, t = \"anagram\", \"nagaram\"\n",
    "s, t = \"anbgram\", \"nagaram\"\n",
    "\n",
    "print(is_anagram(s, t))\n",
    "print(is_anagram1(s, t))"
   ]
  },
  {
   "cell_type": "markdown",
   "metadata": {},
   "source": [
    "## [三数之和](https://leetcode-cn.com/problems/3sum/)"
   ]
  },
  {
   "cell_type": "code",
   "execution_count": 25,
   "metadata": {},
   "outputs": [],
   "source": [
    "def threesum(nums):\n",
    "    # 如果数组长度<3则直接返回空列表\n",
    "    if len(nums) < 3: return []\n",
    "    nums.sort()\n",
    "    res = set()\n",
    "    # 循环第一遍a\n",
    "    for i, a in enumerate(nums):\n",
    "        # 如果i>0并且已经比对过的值，就不用再比对了\n",
    "        if i > 0 and a == nums[i-1]:\n",
    "            continue\n",
    "        \n",
    "        # 在剩余的数字中寻找b和-a-b(c)\n",
    "        d = {}\n",
    "        for x in nums[i+1:]:\n",
    "            if x not in d:\n",
    "                d[-a-x] = 1\n",
    "            else:\n",
    "                res.add((a, -a-x, x))\n",
    "    return list(map(list, res))"
   ]
  },
  {
   "cell_type": "code",
   "execution_count": 26,
   "metadata": {},
   "outputs": [
    {
     "name": "stdout",
     "output_type": "stream",
     "text": [
      "[[-1, 0, 1], [-1, -1, 2]]\n"
     ]
    }
   ],
   "source": [
    "nums = [-1, 0, 1, 2, -1, -4]\n",
    "print(threesum(nums))"
   ]
  }
 ],
 "metadata": {
  "kernelspec": {
   "display_name": "Python 3",
   "language": "python",
   "name": "python3"
  },
  "language_info": {
   "codemirror_mode": {
    "name": "ipython",
    "version": 3
   },
   "file_extension": ".py",
   "mimetype": "text/x-python",
   "name": "python",
   "nbconvert_exporter": "python",
   "pygments_lexer": "ipython3",
   "version": "3.8.1"
  }
 },
 "nbformat": 4,
 "nbformat_minor": 4
}
